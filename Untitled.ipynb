{
 "cells": [
  {
   "cell_type": "markdown",
   "metadata": {},
   "source": [
    "# Initial Ideas for evaporator code\n",
    "\n",
    "Here's some simple ideas for how best to code an evaporating body"
   ]
  },
  {
   "cell_type": "markdown",
   "metadata": {},
   "source": [
    "#### Physical approach\n",
    "\n",
    "Let's think about the real physics going on, and see if we can adapt known models to account for that.\n",
    "\n",
    "The cause of the signal in evaporator transits is not the planet, but the dust cloud.\n",
    "\n",
    "To me, this dust cloud has three possibilities:\n",
    " * Spherical cloud around planet which decreases density with distance\n",
    " * Smeared tail behind planet which decreases density with distance\n",
    " * Smeared tail in front of planet which decreases density with distance\n",
    " \n",
    " In all three cases, we could iteractively fit a Mandel+Agol transit model to account for the change in size over time. e.g:"
   ]
  },
  {
   "cell_type": "code",
   "execution_count": null,
   "metadata": {},
   "outputs": [],
   "source": []
  }
 ],
 "metadata": {
  "kernelspec": {
   "display_name": "Python 3",
   "language": "python",
   "name": "python3"
  },
  "language_info": {
   "codemirror_mode": {
    "name": "ipython",
    "version": 3
   },
   "file_extension": ".py",
   "mimetype": "text/x-python",
   "name": "python",
   "nbconvert_exporter": "python",
   "pygments_lexer": "ipython3",
   "version": "3.7.6"
  }
 },
 "nbformat": 4,
 "nbformat_minor": 4
}
