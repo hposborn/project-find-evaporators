{
 "cells": [
  {
   "cell_type": "code",
   "execution_count": 1,
   "metadata": {},
   "outputs": [],
   "source": [
    "from astropy import units as u\n",
    "from astropy import constants as c\n",
    "\n",
    "import numpy as np\n",
    "import matplotlib.pyplot as plt\n",
    "%matplotlib inline\n",
    "\n",
    "import exoplanet as xo\n",
    "import theano.tensor as tt\n",
    "import theano.tensor.extra_ops as ttx\n",
    "\n",
    "import pandas as pd\n",
    "\n",
    "import pymc3 as pm\n",
    "%load_ext autoreload\n",
    "%autoreload 2"
   ]
  },
  {
   "cell_type": "code",
   "execution_count": 2,
   "metadata": {},
   "outputs": [],
   "source": [
    "dat=np.genfromtxt(\"k1255_lc.dat\")\n",
    "\n",
    "n_pnts=15000\n",
    "\n",
    "#Taking a snippet of KIC1255 data for the model:\n",
    "t=dat[:n_pnts,0]\n",
    "flux= dat[:n_pnts,1]-np.nanmedian(dat[:n_pnts,1])\n",
    "flux_err= dat[:n_pnts,2]\n",
    "cadence=np.nanmedian(np.diff(t))"
   ]
  },
  {
   "cell_type": "code",
   "execution_count": 3,
   "metadata": {},
   "outputs": [],
   "source": [
    "#Orbital params from BLS/candidate - we can fix these here as they should be good enough\n",
    "t_0=566.824+0.5\n",
    "P=0.6535538"
   ]
  },
  {
   "cell_type": "code",
   "execution_count": 70,
   "metadata": {},
   "outputs": [],
   "source": [
    "# initial parameters\n",
    "use_gp=True\n",
    "init_planet_mass=0.025 #Roughly 25% Mars mass - should be undetectably small yet big enough to have a big hill sphere.\n",
    "n_steps=35\n",
    "\n",
    "#Counting number of transits to model, and assigning time to each nearby transit:\n",
    "phase        = (t-t_0)/P\n",
    "rounded_phase= np.round(phase)\n",
    "trns_numbers = np.unique(rounded_phase)\n",
    "phase_index  = np.vstack([[rounded_phase==n_tr] for n_tr in trns_numbers])\n",
    "\n",
    "#Stellar params from e.g. TIC:\n",
    "Rs=1.0#Rs=pm.Normal('Rs',mu=1.0,sd=0.1)\n",
    "Ms=0.76#Ms=pm.Normal('Ms',mu=1.0,sd=0.15)\n",
    "Teff=np.array([4677,100,100])\n",
    "logg=np.array([4.63,0.25,0.25])"
   ]
  },
  {
   "cell_type": "code",
   "execution_count": 66,
   "metadata": {},
   "outputs": [],
   "source": [
    "n_steps=23\n",
    "phase_coverage=0.2 #Max at around 0.2\n",
    "\n",
    "sma_circ    = (((c.G.value*(u.Msun.to(u.kg))*Ms*(P*86400)**2)/(4*np.pi**2))**(1/3))/(u.AU.to(u.m))\n"
   ]
  },
  {
   "cell_type": "code",
   "execution_count": 71,
   "metadata": {},
   "outputs": [],
   "source": [
    "def getLDs(Teff,logg,n_samples,FeH=0.0,mission='tess',how='2'):\n",
    "    Teff_samples = np.random.normal(Teff[0],np.average(abs(Teff[1:])),n_samples)\n",
    "    logg_samples = np.random.normal(logg[0],np.average(abs(logg[1:])),n_samples)\n",
    "\n",
    "    from scipy.interpolate import CloughTocher2DInterpolator as ct2d\n",
    "\n",
    "    if mission[0].lower()==\"t\":\n",
    "        import pandas as pd\n",
    "        from astropy.io import ascii\n",
    "        TessLDs=ascii.read('/Users/hosborn/Postdoc/MonoTools/data/tables/tessLDs.txt').to_pandas()\n",
    "        TessLDs=TessLDs.rename(columns={'col1':'logg','col2':'Teff','col3':'FeH','col4':'L/HP','col5':'a',\n",
    "                                           'col6':'b','col7':'mu','col8':'chi2','col9':'Mod','col10':'scope'})\n",
    "        if FeH!=0.0:\n",
    "            #Finding nearest by FeH:\n",
    "            unq_FeHs=pd.unique(TessLDs['FeH'])\n",
    "            TessLDs=TessLDs.loc[TessLDs['FeH']==unq_FeHs[np.argmin(abs(FeH-unq_FeHs.astype(float)))]]\n",
    "\n",
    "        a_interp=ct2d(np.column_stack((TessLDs.Teff.values.astype(float),\n",
    "                                       TessLDs.logg.values.astype(float))),\n",
    "                      TessLDs.a.values.astype(float))\n",
    "        b_interp=ct2d(np.column_stack((TessLDs.Teff.values.astype(float),\n",
    "                                       TessLDs.logg.values.astype(float))),\n",
    "                      TessLDs.b.values.astype(float))\n",
    "\n",
    "        outarr=np.column_stack((a_interp(np.clip(Teff_samples,2300,12000),np.clip(logg_samples,0,5)),\n",
    "                                b_interp(np.clip(Teff_samples,2300,12000),np.clip(logg_samples,0,5))))\n",
    "        return outarr\n",
    "    elif mission[0].lower()==\"k\":\n",
    "        #Get Kepler Limb darkening coefficients.\n",
    "        types={'1':[3],'2':[4, 5],'3':[6, 7, 8],'4':[9, 10, 11, 12]}\n",
    "        if how in types:\n",
    "            checkint = types[how]\n",
    "            #print(checkint)\n",
    "        else:\n",
    "            print(\"no key...\")\n",
    "\n",
    "        arr = np.genfromtxt('/Users/hosborn/Postdoc/MonoTools/data/tables/KeplerLDlaws.txt',skip_header=2)\n",
    "        #Selecting FeH manually:\n",
    "        feh_ix=arr[:,2]==np.unique(arr[:, 2])[np.argmin(FeH-np.unique(arr[:, 2]))]\n",
    "        a_interp=ct2d(np.column_stack((arr[feh_ix,0],arr[feh_ix,1])),arr[feh_ix,4])\n",
    "        b_interp=ct2d(np.column_stack((arr[feh_ix,0],arr[feh_ix,1])),arr[feh_ix,5])\n",
    "        outarr=np.column_stack((a_interp(np.clip(Teff_samples,3500,50000),np.clip(logg_samples,0,5)),\n",
    "                                b_interp(np.clip(Teff_samples,3500,50000),np.clip(logg_samples,0,5))))\n",
    "        return outarr\n",
    "    elif mission.lower()=='corot':\n",
    "        from astroquery.vizier import Vizier\n",
    "        Vizier.ROW_LIMIT = -1\n",
    "        arr = Vizier.get_catalogs('J/A+A/618/A20/COROTq')[0].to_pandas()\n",
    "        a_interp=ct2d(np.column_stack((arr['Teff'],arr['logg'])),arr['a'])\n",
    "        b_interp=ct2d(np.column_stack((arr['Teff'],arr['logg'])),arr['b'])\n",
    "        outarr=np.column_stack((a_interp(np.clip(Teff_samples,3500,50000),np.clip(logg_samples,0,5)),\n",
    "                                b_interp(np.clip(Teff_samples,3500,50000),np.clip(logg_samples,0,5))))\n",
    "        return outarr"
   ]
  },
  {
   "cell_type": "markdown",
   "metadata": {},
   "source": [
    "### Model with variable depths and multiple transit models:"
   ]
  },
  {
   "cell_type": "code",
   "execution_count": 245,
   "metadata": {},
   "outputs": [
    {
     "name": "stderr",
     "output_type": "stream",
     "text": [
      "INFO (theano.gof.compilelock): Refreshing lock /Users/hosborn/.theano/compiledir_Darwin-19.6.0-x86_64-i386-64bit-i386-3.7.6-64/lock_dir/lock\n"
     ]
    }
   ],
   "source": [
    "ld_dists=getLDs(Teff,logg,n_samples=1200,mission='tess')\n",
    "ld_mult=1.0\n",
    "\n",
    "with pm.Model() as model:\n",
    "    #b can just be unit uniform:\n",
    "    b=pm.Uniform('b',lower=0.0,upper=0.99)\n",
    "    #This is no longer used, the offset was just 0.5P\n",
    "    t_offset=pm.Bound(pm.Normal, upper=0.4*P,lower=-0.4*P)(\"t_offset\", mu=0.0, sigma=0.05*P)\n",
    "    \n",
    "    #For now, let's just model lightcurve depth with two hyperparameters:\n",
    "\n",
    "    # hyper-depth\n",
    "    hyper_logdepth_mu = pm.Uniform('hyper_logdepth_mu', lower=-10, upper=-0.7) # lower np.log(30*1e-6), uppper np.log(0.5*1e-6)\n",
    "    hyper_logdepth_sigma = pm.HalfNormal('hyper_logdepth_sigma', sigma=5) # sigma half of the mu range\n",
    "    \n",
    "    # log_rpl\n",
    "    log_depths = pm.Bound(pm.Normal, upper=-0.7,lower=-10)('log_depths',\n",
    "                                                           mu=hyper_logdepth_mu, \n",
    "                                                           sigma=hyper_logdepth_sigma, \n",
    "                                                           shape=len(trns_numbers))\n",
    "\n",
    "    #This is the relative speed of the dust with respect to the planet. i.e. <0 = in-falling. >0 = propelled outward.\n",
    "    #NB - dust_vel<0.41 (as sqrt(2)*v_circ = unbound from the solar system!).    \n",
    "    dust_vel=pm.Bound(pm.Normal, upper=0.3,lower=-0.3)('dust_vel',mu=0.0,sd=0.2)\n",
    "    \n",
    "    #We want to define our dusty \"phantom planets\" as kicked off their planet and moving along eccentric orbits\n",
    "    #Here we will assume the dust is kicked off _radially_ with no change in angular velocity\n",
    "    #This means all the orbits will have the same eccentricity, and the same \"period\", so initialising here:\n",
    "    # Initial positions of the orbits of our phantom planets (where pi/2 = planet phase)\n",
    "    #sma_circ    = pm.Constant(\"sma_circ\", (((c.G.value*(u.Msun.to(u.kg))*Ms*(P*86400)**2)/(4*np.pi**2))**(1/3))/(u.AU.to(u.m)))\n",
    "    sma_circ    = (((c.G.value*(u.Msun.to(u.kg))*Ms*(P*86400)**2)/(4*np.pi**2))**(1/3))/(u.AU.to(u.m))\n",
    "    #v_circ      = pm.Constant(\"v_circ\", (2*np.pi*sma_circ*(u.AU.to(u.m)))/(P*86400))\n",
    "    v_circ      = (2*np.pi*sma_circ*(u.AU.to(u.m)))/(P*86400)\n",
    "    sma_phantom = pm.Deterministic(\"sma_phantom\",((2/(sma_circ*(u.AU.to(u.m))) - (v_circ**2 + (dust_vel*v_circ)**2)/(c.G.value*Ms*(u.Msun.to(u.kg))))**-1)*(u.m.to(u.AU)))\n",
    "    #sma_phantom = 1/(u.AU.to(u.m)*(2/(sma_circ*u.AU.to(u.m)) - ((1+dust_vel)*v_circ)**2/(c.G.value*Ms*(u.Msun.to(u.kg)))))\n",
    "    per_phantom = pm.Deterministic(\"per_phantom\",P*(sma_phantom/sma_circ)**(3/2))\n",
    "    \n",
    "    #Defining t_periasteron as the time when the phatom planet left the real planet in the preceeding part of the orbit\n",
    "    # We have to redefine t_periasteron like this because we specifically want to model the fact that dust knocked off the surface *does not arrive at the time of transit*\n",
    "    #In the case of an in-falling dust body, we need to flip this by pi as periasteron becomes apasteron \n",
    "    ecc_phantom = pm.Deterministic(\"ecc_phantom\", tt.sqrt(abs(sma_circ/sma_phantom-1)))\n",
    "    '''\n",
    "    if tt.lt(sma_phantom,sma_circ):\n",
    "        ecc_phantom = pm.Deterministic(\"ecc_phantom\", tt.sqrt(1-sma_circ/sma_phantom))\n",
    "    elif tt.gt(sma_phantom,sma_circ):\n",
    "        ecc_phantom = pm.Deterministic(\"ecc_phantom\", tt.sqrt(sma_circ/sma_phantom-1))\n",
    "    else:\n",
    "        ecc_phantom = pm.Deterministic(\"ecc_phantom\",0.0)\n",
    "    '''\n",
    "    \n",
    "    #NB - similarly, the dust velocity should be on a trajectory that doesnt intersect with the star (because this ruins the transit models)\n",
    "    # Uses a sigmoid function L/(1+exp(K*(sma-sma_min))), where L=-100 (invalid sma) and K=1000 (steepness)\n",
    "    pm.Potential(\"sma_min\",-100.0/(1+np.exp(1000*(sma_phantom-Rs*(u.Rsun.to(u.au))/(1-ecc_phantom)))))\n",
    "\n",
    "    if tt.lt(dust_vel,0):\n",
    "        phantom_omega   = np.linspace(1.5*np.pi,1.5*np.pi - phase_coverage*2*np.pi,  n_steps)\n",
    "        phantom_t_peris = 0.5*per_phantom - np.linspace(0.0, phase_coverage*P, n_steps)\n",
    "    elif tt.ge(dust_vel,0):\n",
    "        phantom_omega   = np.linspace(0.5*np.pi, 0.5*np.pi - phase_coverage*2*np.pi, n_steps)\n",
    "        phantom_t_peris = np.linspace(0.0, phase_coverage*P, n_steps)\n",
    "\n",
    "    '''\n",
    "    if tt.lt(dust_vel,0):\n",
    "        ecc_phantom = pm.Deterministic(\"ecc_phantom\", tt.sqrt(sma_circ/sma_phantom-1))\n",
    "        phantom_omega   = pm.Deterministic(\"phantom_omega\", np.linspace(1.5*np.pi - phase_coverage*2*np.pi, 1.5*np.pi, n_steps) )\n",
    "        phantom_t_peris = pm.Deterministic(\"phantom_t_peris\", 0.5*per_phantom - np.linspace(phase_coverage*P, 0.0, n_steps))\n",
    "    elif tt.gt(dust_vel,0):\n",
    "        ecc_phantom = pm.Deterministic(\"ecc_phantom\", tt.sqrt(1-sma_circ/sma_phantom))\n",
    "        phantom_omega = pm.Deterministic(\"phantom_omega\", np.linspace(0.5*np.pi - phase_coverage*2*np.pi, 0.5*np.pi, n_steps) )\n",
    "        phantom_t_peris = pm.Deterministic(\"phantom_t_peris\", np.linspace(-1*phase_coverage*P, 0.0, n_steps))\n",
    "    else:\n",
    "        ecc_phantom = pm.Deterministic(\"ecc_phantom\",0.0)\n",
    "        phantom_omega = pm.Deterministic(\"phantom_omega\", np.linspace(0.5*np.pi - phase_coverage*2*np.pi, 0.5*np.pi, n_steps) )\n",
    "        phantom_t_peris = pm.Deterministic(\"phantom_t_peris\", np.linspace(-1*phase_coverage*P, 0.0, n_steps))\n",
    "    '''\n",
    "    #As dust dispersion is constant and our steps are constant, we should also always have the same dispersion for each transit, so initialising here:\n",
    "    init_planet_ratio = ((sma_circ*u.AU.to(u.m))*(init_planet_mass*(u.Mearth.to(u.kg))/(3*Ms*(u.Msun.to(u.kg))))**(1/3))/(Rs*(u.Rsun.to(u.m))) #roche lobe for Mars-sized body on this orbit\n",
    "    log_rad_growth    = pm.Uniform(\"log_rad_growth\",lower=-10,upper=10,testval=-1)\n",
    "    # We parameterize the rate of growth of the dusty \"planets\" with log_rad_growth\n",
    "    planet_ratios_init= init_planet_ratio+(1+np.exp(log_rad_growth))**np.linspace(1,2,n_steps)\n",
    "    planet_ratios     = pm.Deterministic(\"planet_ratios\",(planet_ratios_init-planet_ratios_init[0])/(3.5*planet_ratios_init[-1])+init_planet_ratio) #Limiting it at 0.5\n",
    "    #Limiting it at 0.5\n",
    "    \n",
    "    # Dispersion is the parameter dealing with the net throughput of each dust \"planet\"\n",
    "    # We will start at 0.25 for the Hill Sphere and decrease\n",
    "    # How steep that decrease is can be varied with \"log_dust_dispersion\"\n",
    "    log_dust_dispersion=pm.Uniform(\"log_dust_dispersion\",lower=2,upper=10)\n",
    "    dispersion        = pm.Deterministic(\"dispersion\", 0.25/(1.0+np.exp(log_dust_dispersion))**(np.linspace(0,1,n_steps)))\n",
    "    \n",
    "    #Defining limb darkening\n",
    "\n",
    "    u_star_tess = pm.Bound(pm.Normal, lower=0.0, upper=1.0)(\"u_star_tess\", \n",
    "                                    mu=np.clip(np.nanmedian(ld_dists,axis=0),0,1),\n",
    "                                    sd=np.clip(ld_mult*np.nanstd(ld_dists,axis=0),0.05,1.0),\n",
    "                                    shape=2, testval=np.clip(np.nanmedian(ld_dists,axis=0),0,1))\n",
    "\n",
    "    #u_star_tess = xo.distributions.QuadLimbDark(\"u_star_tess\", testval=np.array([0.3, 0.2]))\n",
    "    \n",
    "    #Defining the orbit using stellar params (Rs, Ms) and period, omega, t_peri, ecc and b:\n",
    "    orbit = xo.orbits.KeplerianOrbit(r_star=Rs,m_star=Ms,\n",
    "                                     period=tt.tile(per_phantom,n_steps),\n",
    "                                     omega=phantom_omega,\n",
    "                                     t_periastron=phantom_t_peris,\n",
    "                                     ecc=tt.tile(ecc_phantom,n_steps),\n",
    "                                     b=tt.tile(b,n_steps))\n",
    "    \n",
    "    #Getting the lightcurve for all orbits, for all times (where the times have been adjusted to be ~0)\n",
    "    lc = xo.LimbDarkLightCurve(u_star_tess).get_light_curve(orbit=orbit,r=planet_ratios,\n",
    "                                                            t=t_offset+tt.clip(P*(phase-np.round(phase)),-0.5*per_phantom,0.5*per_phantom))\n",
    "    #For short-period orbits, we really need to make sure that the second orbits are not included...\n",
    "    #lc[((P*(phase-np.round(phase))[:,np.newaxis]<orbit.t0.dimshuffle('x',0)-0.5*per_phantom)+(P*(phase-np.round(phase))[:,np.newaxis]>orbit.t0.dimshuffle('x',0)+0.5*per_phantom))]=0\n",
    "\n",
    "    #Incorporating dispersion and finding the minimum in order to normalise lightcurve to depth=1.0\n",
    "    disp_lc = tt.sum(lc*dispersion.dimshuffle('x',0),axis=1)\n",
    "    lc_min  = tt.clip(tt.min(disp_lc),-1e5,-1e-20)\n",
    "\n",
    "    #Incorporating depth differences by multipliying depths (N_Tr, 1) by a phase index (N_tr x N_lc) and summing along N_tr axis:\n",
    "    depth_adjusts = tt.sum(tt.exp(log_depths).dimshuffle(0,'x')*phase_index,axis=0)\n",
    "\n",
    "    #Multiplying normalised lc by the depth:\n",
    "    model_lc = pm.Deterministic(\"model_lc\",-1*(disp_lc/lc_min)*depth_adjusts)\n",
    "\n",
    "    #Likelihood of the model:\n",
    "    pm.Normal(\"likelihood\",mu=model_lc, sigma=flux_err, observed=flux)\n",
    "    llk = pm.Deterministic(\"llk\", model.logpt)\n",
    "\n",
    "    #return final_model"
   ]
  },
  {
   "cell_type": "code",
   "execution_count": 194,
   "metadata": {},
   "outputs": [
    {
     "name": "stderr",
     "output_type": "stream",
     "text": [
      "  0%|          | 0/5000 [00:00<?, ?it/s]/Users/hosborn/transits/lib/python3.7/site-packages/scipy/optimize/_minimize.py:500: RuntimeWarning: Method powell does not use gradient information (jac).\n",
      "  RuntimeWarning)\n",
      "/Users/hosborn/transits/lib/python3.7/site-packages/theano/tensor/subtensor.py:2197: FutureWarning: Using a non-tuple sequence for multidimensional indexing is deprecated; use `arr[tuple(seq)]` instead of `arr[seq]`. In the future this will be interpreted as an array index, `arr[np.array(seq)]`, which will result either in an error or a different result.\n",
      "  rval = inputs[0].__getitem__(inputs[1:])\n",
      "logp = 50,390, ||grad|| = 152.71: 100%|██████████| 1337/1337 [01:38<00:00, 13.52it/s] \n",
      "INFO (theano.gof.compilelock): Refreshing lock /Users/hosborn/.theano/compiledir_Darwin-19.6.0-x86_64-i386-64bit-i386-3.7.6-64/lock_dir/lock\n"
     ]
    }
   ],
   "source": [
    "with model:\n",
    "    map_estimate = pm.find_MAP(model=model, method=\"powell\")"
   ]
  },
  {
   "cell_type": "code",
   "execution_count": 195,
   "metadata": {},
   "outputs": [
    {
     "data": {
      "text/plain": [
       "[<matplotlib.lines.Line2D at 0x1442bf490>]"
      ]
     },
     "execution_count": 195,
     "metadata": {},
     "output_type": "execute_result"
    },
    {
     "data": {
      "image/png": "[encoded data removed]",
      "text/plain": [
       "<Figure size 864x216 with 1 Axes>"
      ]
     },
     "metadata": {
      "needs_background": "light"
     },
     "output_type": "display_data"
    }
   ],
   "source": [
    "plt.figure(figsize=(12,3))\n",
    "plt.plot(t[:2800],flux[:2800],'.',alpha=0.5)\n",
    "plt.plot(t[:2800],map_estimate[\"model_lc\"][:2800])"
   ]
  },
  {
   "cell_type": "code",
   "execution_count": 197,
   "metadata": {},
   "outputs": [
    {
     "ename": "KeyError",
     "evalue": "'likelihood'",
     "output_type": "error",
     "traceback": [
      "\u001b[0;31m---------------------------------------------------------------------------\u001b[0m",
      "\u001b[0;31mKeyError\u001b[0m                                  Traceback (most recent call last)",
      "\u001b[0;32m<ipython-input-197-160b834a5810>\u001b[0m in \u001b[0;36m<module>\u001b[0;34m\u001b[0m\n\u001b[0;32m----> 1\u001b[0;31m \u001b[0mmap_estimate\u001b[0m\u001b[0;34m[\u001b[0m\u001b[0;34m'likelihood'\u001b[0m\u001b[0;34m]\u001b[0m\u001b[0;34m\u001b[0m\u001b[0;34m\u001b[0m\u001b[0m\n\u001b[0m",
      "\u001b[0;31mKeyError\u001b[0m: 'likelihood'"
     ]
    }
   ],
   "source": [
    "map_estimate['likelihood']"
   ]
  },
  {
   "cell_type": "markdown",
   "metadata": {},
   "source": [
    "### Model with unchanging depth and N=1 transit model:"
   ]
  },
  {
   "cell_type": "code",
   "execution_count": 225,
   "metadata": {},
   "outputs": [
    {
     "name": "stderr",
     "output_type": "stream",
     "text": [
      "/Users/hosborn/transits/lib/python3.7/site-packages/theano/tensor/subtensor.py:2197: FutureWarning: Using a non-tuple sequence for multidimensional indexing is deprecated; use `arr[tuple(seq)]` instead of `arr[seq]`. In the future this will be interpreted as an array index, `arr[np.array(seq)]`, which will result either in an error or a different result.\n",
      "  rval = inputs[0].__getitem__(inputs[1:])\n"
     ]
    }
   ],
   "source": [
    "orbit = xo.orbits.KeplerianOrbit(r_star=Rs, m_star=Ms, period=P, t0=t_0, b=0.4)\n",
    "lc=xo.LimbDarkLightCurve(np.array([0.3,0.4])).get_light_curve(orbit=orbit, r=tt.exp(-3), t=t).eval()"
   ]
  },
  {
   "cell_type": "code",
   "execution_count": 226,
   "metadata": {},
   "outputs": [
    {
     "data": {
      "text/plain": [
       "(15000, 1)"
      ]
     },
     "execution_count": 226,
     "metadata": {},
     "output_type": "execute_result"
    }
   ],
   "source": [
    "lc.shape"
   ]
  },
  {
   "cell_type": "code",
   "execution_count": 235,
   "metadata": {},
   "outputs": [],
   "source": [
    "ld_dists=getLDs(Teff,logg,n_samples=1200,mission='tess')\n",
    "ld_mult=1.0\n",
    "\n",
    "with pm.Model() as simple_model:\n",
    "    #b can just be unit uniform:\n",
    "    b=pm.Uniform('b',lower=0.0,upper=0.95)\n",
    "    #This is no longer used, the offset was just 0.5P\n",
    "    t_offset=pm.Bound(pm.Normal, upper=0.4*P,lower=-0.4*P)(\"t_offset\", mu=0.0, sigma=0.05*P)\n",
    "        \n",
    "    # log_rpl\n",
    "    log_rprs = pm.Uniform('log_r_pl', upper=np.log(0.33),lower=np.log(1e-3))\n",
    "    \n",
    "    u_star_tess = pm.Bound(pm.Normal, lower=0.0, upper=1.0)(\"u_star_tess\", \n",
    "                                    mu=np.clip(np.nanmedian(ld_dists,axis=0),0,1),\n",
    "                                    sd=np.clip(ld_mult*np.nanstd(ld_dists,axis=0),0.05,1.0),\n",
    "                                    shape=2, testval=np.clip(np.nanmedian(ld_dists,axis=0),0,1))\n",
    "\n",
    "    #Defining the orbit using stellar params (Rs, Ms) and period, t_0 and b:\n",
    "    orbit = xo.orbits.KeplerianOrbit(r_star=Rs, m_star=Ms, period=P, t0=t_0+t_offset, b=b)\n",
    "    \n",
    "    lc=xo.LimbDarkLightCurve(u_star_tess).get_light_curve(orbit=orbit, r=tt.exp(log_rprs), t=t)\n",
    "        \n",
    "    model_lc = pm.Deterministic(\"model_lc\", lc)\n",
    "\n",
    "    #Likelihood of the model:\n",
    "    pm.Normal(\"likelihood\", mu=model_lc, sigma=flux_err[:,np.newaxis], observed=flux[:,np.newaxis])\n",
    "    llk = pm.Deterministic(\"llk\", simple_model.logpt)\n",
    "    \n",
    "    #return final_model"
   ]
  },
  {
   "cell_type": "code",
   "execution_count": 241,
   "metadata": {},
   "outputs": [
    {
     "name": "stderr",
     "output_type": "stream",
     "text": [
      "INFO (theano.gof.compilelock): Refreshing lock /Users/hosborn/.theano/compiledir_Darwin-19.6.0-x86_64-i386-64bit-i386-3.7.6-64/lock_dir/lock\n",
      "logp = 50,078, ||grad|| = 99.897: 100%|██████████| 307/307 [00:00<00:00, 412.07it/s]  \n",
      "/Users/hosborn/transits/lib/python3.7/site-packages/theano/tensor/subtensor.py:2197: FutureWarning: Using a non-tuple sequence for multidimensional indexing is deprecated; use `arr[tuple(seq)]` instead of `arr[seq]`. In the future this will be interpreted as an array index, `arr[np.array(seq)]`, which will result either in an error or a different result.\n",
      "  rval = inputs[0].__getitem__(inputs[1:])\n"
     ]
    }
   ],
   "source": [
    "with simple_model:\n",
    "    simple_map_estimate = pm.find_MAP(model=simple_model, method=\"powell\")\n"
   ]
  },
  {
   "cell_type": "code",
   "execution_count": 243,
   "metadata": {},
   "outputs": [
    {
     "data": {
      "text/plain": [
       "[<matplotlib.lines.Line2D at 0x13aa99550>]"
      ]
     },
     "execution_count": 243,
     "metadata": {},
     "output_type": "execute_result"
    },
    {
     "data": {
      "image/png": "[encoded data removed]",
      "text/plain": [
       "<Figure size 432x288 with 1 Axes>"
      ]
     },
     "metadata": {
      "needs_background": "light"
     },
     "output_type": "display_data"
    }
   ],
   "source": [
    "simple_map_estimate['model_lc']"
   ]
  },
  {
   "cell_type": "code",
   "execution_count": 236,
   "metadata": {},
   "outputs": [
    {
     "name": "stderr",
     "output_type": "stream",
     "text": [
      "logp = 50,378, ||grad|| = 361.59: 100%|██████████| 1339/1339 [01:40<00:00, 13.31it/s] \n"
     ]
    },
    {
     "ename": "MissingInputError",
     "evalue": "Input 0 of the graph (indices start from 0), used to compute sigmoid(b_interval__), was not provided and not given a value. Use the Theano flag exception_verbosity='high', for more information on this error.",
     "output_type": "error",
     "traceback": [
      "\u001b[0;31m---------------------------------------------------------------------------\u001b[0m",
      "\u001b[0;31mMissingInputError\u001b[0m                         Traceback (most recent call last)",
      "\u001b[0;32m<ipython-input-236-de9074537d40>\u001b[0m in \u001b[0;36m<module>\u001b[0;34m\u001b[0m\n\u001b[1;32m      1\u001b[0m \u001b[0;32mwith\u001b[0m \u001b[0mmodel\u001b[0m\u001b[0;34m:\u001b[0m\u001b[0;34m\u001b[0m\u001b[0;34m\u001b[0m\u001b[0m\n\u001b[0;32m----> 2\u001b[0;31m     \u001b[0mmap_estimate\u001b[0m \u001b[0;34m=\u001b[0m \u001b[0mpm\u001b[0m\u001b[0;34m.\u001b[0m\u001b[0mfind_MAP\u001b[0m\u001b[0;34m(\u001b[0m\u001b[0mmodel\u001b[0m\u001b[0;34m=\u001b[0m\u001b[0mmodel\u001b[0m\u001b[0;34m,\u001b[0m \u001b[0mmethod\u001b[0m\u001b[0;34m=\u001b[0m\u001b[0;34m\"powell\"\u001b[0m\u001b[0;34m)\u001b[0m\u001b[0;34m\u001b[0m\u001b[0;34m\u001b[0m\u001b[0m\n\u001b[0m\u001b[1;32m      3\u001b[0m \u001b[0;34m\u001b[0m\u001b[0m\n\u001b[1;32m      4\u001b[0m \u001b[0;32mwith\u001b[0m \u001b[0msimple_model\u001b[0m\u001b[0;34m:\u001b[0m\u001b[0;34m\u001b[0m\u001b[0;34m\u001b[0m\u001b[0m\n\u001b[1;32m      5\u001b[0m     \u001b[0msimple_map_estimate\u001b[0m \u001b[0;34m=\u001b[0m \u001b[0mpm\u001b[0m\u001b[0;34m.\u001b[0m\u001b[0mfind_MAP\u001b[0m\u001b[0;34m(\u001b[0m\u001b[0mmodel\u001b[0m\u001b[0;34m=\u001b[0m\u001b[0msimple_model\u001b[0m\u001b[0;34m,\u001b[0m \u001b[0mmethod\u001b[0m\u001b[0;34m=\u001b[0m\u001b[0;34m\"powell\"\u001b[0m\u001b[0;34m)\u001b[0m\u001b[0;34m\u001b[0m\u001b[0;34m\u001b[0m\u001b[0m\n",
      "\u001b[0;32m~/transits/lib/python3.7/site-packages/pymc3/tuning/starting.py\u001b[0m in \u001b[0;36mfind_MAP\u001b[0;34m(start, vars, method, return_raw, include_transformed, progressbar, maxeval, model, *args, **kwargs)\u001b[0m\n\u001b[1;32m    165\u001b[0m     \u001b[0mvars\u001b[0m \u001b[0;34m=\u001b[0m \u001b[0mget_default_varnames\u001b[0m\u001b[0;34m(\u001b[0m\u001b[0mmodel\u001b[0m\u001b[0;34m.\u001b[0m\u001b[0munobserved_RVs\u001b[0m\u001b[0;34m,\u001b[0m \u001b[0minclude_transformed\u001b[0m\u001b[0;34m)\u001b[0m\u001b[0;34m\u001b[0m\u001b[0;34m\u001b[0m\u001b[0m\n\u001b[1;32m    166\u001b[0m     mx = {\n\u001b[0;32m--> 167\u001b[0;31m         \u001b[0mvar\u001b[0m\u001b[0;34m.\u001b[0m\u001b[0mname\u001b[0m\u001b[0;34m:\u001b[0m \u001b[0mvalue\u001b[0m \u001b[0;32mfor\u001b[0m \u001b[0mvar\u001b[0m\u001b[0;34m,\u001b[0m \u001b[0mvalue\u001b[0m \u001b[0;32min\u001b[0m \u001b[0mzip\u001b[0m\u001b[0;34m(\u001b[0m\u001b[0mvars\u001b[0m\u001b[0;34m,\u001b[0m \u001b[0mmodel\u001b[0m\u001b[0;34m.\u001b[0m\u001b[0mfastfn\u001b[0m\u001b[0;34m(\u001b[0m\u001b[0mvars\u001b[0m\u001b[0;34m)\u001b[0m\u001b[0;34m(\u001b[0m\u001b[0mbij\u001b[0m\u001b[0;34m.\u001b[0m\u001b[0mrmap\u001b[0m\u001b[0;34m(\u001b[0m\u001b[0mmx0\u001b[0m\u001b[0;34m)\u001b[0m\u001b[0;34m)\u001b[0m\u001b[0;34m)\u001b[0m\u001b[0;34m\u001b[0m\u001b[0;34m\u001b[0m\u001b[0m\n\u001b[0m\u001b[1;32m    168\u001b[0m     }\n\u001b[1;32m    169\u001b[0m \u001b[0;34m\u001b[0m\u001b[0m\n",
      "\u001b[0;32m~/transits/lib/python3.7/site-packages/pymc3/model.py\u001b[0m in \u001b[0;36mfastfn\u001b[0;34m(self, outs, mode, *args, **kwargs)\u001b[0m\n\u001b[1;32m   1051\u001b[0m         \u001b[0mCompiled\u001b[0m \u001b[0mTheano\u001b[0m \u001b[0mfunction\u001b[0m \u001b[0;32mas\u001b[0m \u001b[0mpoint\u001b[0m \u001b[0mfunction\u001b[0m\u001b[0;34m.\u001b[0m\u001b[0;34m\u001b[0m\u001b[0;34m\u001b[0m\u001b[0m\n\u001b[1;32m   1052\u001b[0m         \"\"\"\n\u001b[0;32m-> 1053\u001b[0;31m         \u001b[0mf\u001b[0m \u001b[0;34m=\u001b[0m \u001b[0mself\u001b[0m\u001b[0;34m.\u001b[0m\u001b[0mmakefn\u001b[0m\u001b[0;34m(\u001b[0m\u001b[0mouts\u001b[0m\u001b[0;34m,\u001b[0m \u001b[0mmode\u001b[0m\u001b[0;34m,\u001b[0m \u001b[0;34m*\u001b[0m\u001b[0margs\u001b[0m\u001b[0;34m,\u001b[0m \u001b[0;34m**\u001b[0m\u001b[0mkwargs\u001b[0m\u001b[0;34m)\u001b[0m\u001b[0;34m\u001b[0m\u001b[0;34m\u001b[0m\u001b[0m\n\u001b[0m\u001b[1;32m   1054\u001b[0m         \u001b[0;32mreturn\u001b[0m \u001b[0mFastPointFunc\u001b[0m\u001b[0;34m(\u001b[0m\u001b[0mf\u001b[0m\u001b[0;34m)\u001b[0m\u001b[0;34m\u001b[0m\u001b[0;34m\u001b[0m\u001b[0m\n\u001b[1;32m   1055\u001b[0m \u001b[0;34m\u001b[0m\u001b[0m\n",
      "\u001b[0;32m~/transits/lib/python3.7/site-packages/pymc3/model.py\u001b[0m in \u001b[0;36mmakefn\u001b[0;34m(self, outs, mode, *args, **kwargs)\u001b[0m\n\u001b[1;32m   1021\u001b[0m                                    \u001b[0mon_unused_input\u001b[0m\u001b[0;34m=\u001b[0m\u001b[0;34m'ignore'\u001b[0m\u001b[0;34m,\u001b[0m\u001b[0;34m\u001b[0m\u001b[0;34m\u001b[0m\u001b[0m\n\u001b[1;32m   1022\u001b[0m                                    \u001b[0maccept_inplace\u001b[0m\u001b[0;34m=\u001b[0m\u001b[0;32mTrue\u001b[0m\u001b[0;34m,\u001b[0m\u001b[0;34m\u001b[0m\u001b[0;34m\u001b[0m\u001b[0m\n\u001b[0;32m-> 1023\u001b[0;31m                                    mode=mode, *args, **kwargs)\n\u001b[0m\u001b[1;32m   1024\u001b[0m \u001b[0;34m\u001b[0m\u001b[0m\n\u001b[1;32m   1025\u001b[0m     \u001b[0;32mdef\u001b[0m \u001b[0mfn\u001b[0m\u001b[0;34m(\u001b[0m\u001b[0mself\u001b[0m\u001b[0;34m,\u001b[0m \u001b[0mouts\u001b[0m\u001b[0;34m,\u001b[0m \u001b[0mmode\u001b[0m\u001b[0;34m=\u001b[0m\u001b[0;32mNone\u001b[0m\u001b[0;34m,\u001b[0m \u001b[0;34m*\u001b[0m\u001b[0margs\u001b[0m\u001b[0;34m,\u001b[0m \u001b[0;34m**\u001b[0m\u001b[0mkwargs\u001b[0m\u001b[0;34m)\u001b[0m\u001b[0;34m:\u001b[0m\u001b[0;34m\u001b[0m\u001b[0;34m\u001b[0m\u001b[0m\n",
      "\u001b[0;32m~/transits/lib/python3.7/site-packages/theano/compile/function.py\u001b[0m in \u001b[0;36mfunction\u001b[0;34m(inputs, outputs, mode, updates, givens, no_default_updates, accept_inplace, name, rebuild_strict, allow_input_downcast, profile, on_unused_input)\u001b[0m\n\u001b[1;32m    315\u001b[0m                    \u001b[0mon_unused_input\u001b[0m\u001b[0;34m=\u001b[0m\u001b[0mon_unused_input\u001b[0m\u001b[0;34m,\u001b[0m\u001b[0;34m\u001b[0m\u001b[0;34m\u001b[0m\u001b[0m\n\u001b[1;32m    316\u001b[0m                    \u001b[0mprofile\u001b[0m\u001b[0;34m=\u001b[0m\u001b[0mprofile\u001b[0m\u001b[0;34m,\u001b[0m\u001b[0;34m\u001b[0m\u001b[0;34m\u001b[0m\u001b[0m\n\u001b[0;32m--> 317\u001b[0;31m                    output_keys=output_keys)\n\u001b[0m\u001b[1;32m    318\u001b[0m     \u001b[0;32mreturn\u001b[0m \u001b[0mfn\u001b[0m\u001b[0;34m\u001b[0m\u001b[0;34m\u001b[0m\u001b[0m\n",
      "\u001b[0;32m~/transits/lib/python3.7/site-packages/theano/compile/pfunc.py\u001b[0m in \u001b[0;36mpfunc\u001b[0;34m(params, outputs, mode, updates, givens, no_default_updates, accept_inplace, name, rebuild_strict, allow_input_downcast, profile, on_unused_input, output_keys)\u001b[0m\n\u001b[1;32m    484\u001b[0m                          \u001b[0maccept_inplace\u001b[0m\u001b[0;34m=\u001b[0m\u001b[0maccept_inplace\u001b[0m\u001b[0;34m,\u001b[0m \u001b[0mname\u001b[0m\u001b[0;34m=\u001b[0m\u001b[0mname\u001b[0m\u001b[0;34m,\u001b[0m\u001b[0;34m\u001b[0m\u001b[0;34m\u001b[0m\u001b[0m\n\u001b[1;32m    485\u001b[0m                          \u001b[0mprofile\u001b[0m\u001b[0;34m=\u001b[0m\u001b[0mprofile\u001b[0m\u001b[0;34m,\u001b[0m \u001b[0mon_unused_input\u001b[0m\u001b[0;34m=\u001b[0m\u001b[0mon_unused_input\u001b[0m\u001b[0;34m,\u001b[0m\u001b[0;34m\u001b[0m\u001b[0;34m\u001b[0m\u001b[0m\n\u001b[0;32m--> 486\u001b[0;31m                          output_keys=output_keys)\n\u001b[0m\u001b[1;32m    487\u001b[0m \u001b[0;34m\u001b[0m\u001b[0m\n\u001b[1;32m    488\u001b[0m \u001b[0;34m\u001b[0m\u001b[0m\n",
      "\u001b[0;32m~/transits/lib/python3.7/site-packages/theano/compile/function_module.py\u001b[0m in \u001b[0;36morig_function\u001b[0;34m(inputs, outputs, mode, accept_inplace, name, profile, on_unused_input, output_keys)\u001b[0m\n\u001b[1;32m   1837\u001b[0m                   \u001b[0mon_unused_input\u001b[0m\u001b[0;34m=\u001b[0m\u001b[0mon_unused_input\u001b[0m\u001b[0;34m,\u001b[0m\u001b[0;34m\u001b[0m\u001b[0;34m\u001b[0m\u001b[0m\n\u001b[1;32m   1838\u001b[0m                   \u001b[0moutput_keys\u001b[0m\u001b[0;34m=\u001b[0m\u001b[0moutput_keys\u001b[0m\u001b[0;34m,\u001b[0m\u001b[0;34m\u001b[0m\u001b[0;34m\u001b[0m\u001b[0m\n\u001b[0;32m-> 1839\u001b[0;31m                   name=name)\n\u001b[0m\u001b[1;32m   1840\u001b[0m         \u001b[0;32mwith\u001b[0m \u001b[0mtheano\u001b[0m\u001b[0;34m.\u001b[0m\u001b[0mchange_flags\u001b[0m\u001b[0;34m(\u001b[0m\u001b[0mcompute_test_value\u001b[0m\u001b[0;34m=\u001b[0m\u001b[0;34m\"off\"\u001b[0m\u001b[0;34m)\u001b[0m\u001b[0;34m:\u001b[0m\u001b[0;34m\u001b[0m\u001b[0;34m\u001b[0m\u001b[0m\n\u001b[1;32m   1841\u001b[0m             \u001b[0mfn\u001b[0m \u001b[0;34m=\u001b[0m \u001b[0mm\u001b[0m\u001b[0;34m.\u001b[0m\u001b[0mcreate\u001b[0m\u001b[0;34m(\u001b[0m\u001b[0mdefaults\u001b[0m\u001b[0;34m)\u001b[0m\u001b[0;34m\u001b[0m\u001b[0;34m\u001b[0m\u001b[0m\n",
      "\u001b[0;32m~/transits/lib/python3.7/site-packages/theano/compile/function_module.py\u001b[0m in \u001b[0;36m__init__\u001b[0;34m(self, inputs, outputs, mode, accept_inplace, function_builder, profile, on_unused_input, fgraph, output_keys, name)\u001b[0m\n\u001b[1;32m   1485\u001b[0m             \u001b[0;31m# OUTPUT VARIABLES)\u001b[0m\u001b[0;34m\u001b[0m\u001b[0;34m\u001b[0m\u001b[0;34m\u001b[0m\u001b[0m\n\u001b[1;32m   1486\u001b[0m             fgraph, additional_outputs = std_fgraph(inputs, outputs,\n\u001b[0;32m-> 1487\u001b[0;31m                                                     accept_inplace)\n\u001b[0m\u001b[1;32m   1488\u001b[0m             \u001b[0mfgraph\u001b[0m\u001b[0;34m.\u001b[0m\u001b[0mprofile\u001b[0m \u001b[0;34m=\u001b[0m \u001b[0mprofile\u001b[0m\u001b[0;34m\u001b[0m\u001b[0;34m\u001b[0m\u001b[0m\n\u001b[1;32m   1489\u001b[0m         \u001b[0;32melse\u001b[0m\u001b[0;34m:\u001b[0m\u001b[0;34m\u001b[0m\u001b[0;34m\u001b[0m\u001b[0m\n",
      "\u001b[0;32m~/transits/lib/python3.7/site-packages/theano/compile/function_module.py\u001b[0m in \u001b[0;36mstd_fgraph\u001b[0;34m(input_specs, output_specs, accept_inplace)\u001b[0m\n\u001b[1;32m    179\u001b[0m \u001b[0;34m\u001b[0m\u001b[0m\n\u001b[1;32m    180\u001b[0m     fgraph = gof.fg.FunctionGraph(orig_inputs, orig_outputs,\n\u001b[0;32m--> 181\u001b[0;31m                                   update_mapping=update_mapping)\n\u001b[0m\u001b[1;32m    182\u001b[0m \u001b[0;34m\u001b[0m\u001b[0m\n\u001b[1;32m    183\u001b[0m     \u001b[0;32mfor\u001b[0m \u001b[0mnode\u001b[0m \u001b[0;32min\u001b[0m \u001b[0mfgraph\u001b[0m\u001b[0;34m.\u001b[0m\u001b[0mapply_nodes\u001b[0m\u001b[0;34m:\u001b[0m\u001b[0;34m\u001b[0m\u001b[0;34m\u001b[0m\u001b[0m\n",
      "\u001b[0;32m~/transits/lib/python3.7/site-packages/theano/gof/fg.py\u001b[0m in \u001b[0;36m__init__\u001b[0;34m(self, inputs, outputs, features, clone, update_mapping)\u001b[0m\n\u001b[1;32m    173\u001b[0m \u001b[0;34m\u001b[0m\u001b[0m\n\u001b[1;32m    174\u001b[0m         \u001b[0;32mfor\u001b[0m \u001b[0moutput\u001b[0m \u001b[0;32min\u001b[0m \u001b[0moutputs\u001b[0m\u001b[0;34m:\u001b[0m\u001b[0;34m\u001b[0m\u001b[0;34m\u001b[0m\u001b[0m\n\u001b[0;32m--> 175\u001b[0;31m             \u001b[0mself\u001b[0m\u001b[0;34m.\u001b[0m\u001b[0m__import_r__\u001b[0m\u001b[0;34m(\u001b[0m\u001b[0moutput\u001b[0m\u001b[0;34m,\u001b[0m \u001b[0mreason\u001b[0m\u001b[0;34m=\u001b[0m\u001b[0;34m\"init\"\u001b[0m\u001b[0;34m)\u001b[0m\u001b[0;34m\u001b[0m\u001b[0;34m\u001b[0m\u001b[0m\n\u001b[0m\u001b[1;32m    176\u001b[0m         \u001b[0;32mfor\u001b[0m \u001b[0mi\u001b[0m\u001b[0;34m,\u001b[0m \u001b[0moutput\u001b[0m \u001b[0;32min\u001b[0m \u001b[0menumerate\u001b[0m\u001b[0;34m(\u001b[0m\u001b[0moutputs\u001b[0m\u001b[0;34m)\u001b[0m\u001b[0;34m:\u001b[0m\u001b[0;34m\u001b[0m\u001b[0;34m\u001b[0m\u001b[0m\n\u001b[1;32m    177\u001b[0m             \u001b[0moutput\u001b[0m\u001b[0;34m.\u001b[0m\u001b[0mclients\u001b[0m\u001b[0;34m.\u001b[0m\u001b[0mappend\u001b[0m\u001b[0;34m(\u001b[0m\u001b[0;34m(\u001b[0m\u001b[0;34m'output'\u001b[0m\u001b[0;34m,\u001b[0m \u001b[0mi\u001b[0m\u001b[0;34m)\u001b[0m\u001b[0;34m)\u001b[0m\u001b[0;34m\u001b[0m\u001b[0;34m\u001b[0m\u001b[0m\n",
      "\u001b[0;32m~/transits/lib/python3.7/site-packages/theano/gof/fg.py\u001b[0m in \u001b[0;36m__import_r__\u001b[0;34m(self, variable, reason)\u001b[0m\n\u001b[1;32m    344\u001b[0m         \u001b[0;31m# Imports the owners of the variables\u001b[0m\u001b[0;34m\u001b[0m\u001b[0;34m\u001b[0m\u001b[0;34m\u001b[0m\u001b[0m\n\u001b[1;32m    345\u001b[0m         \u001b[0;32mif\u001b[0m \u001b[0mvariable\u001b[0m\u001b[0;34m.\u001b[0m\u001b[0mowner\u001b[0m \u001b[0;32mand\u001b[0m \u001b[0mvariable\u001b[0m\u001b[0;34m.\u001b[0m\u001b[0mowner\u001b[0m \u001b[0;32mnot\u001b[0m \u001b[0;32min\u001b[0m \u001b[0mself\u001b[0m\u001b[0;34m.\u001b[0m\u001b[0mapply_nodes\u001b[0m\u001b[0;34m:\u001b[0m\u001b[0;34m\u001b[0m\u001b[0;34m\u001b[0m\u001b[0m\n\u001b[0;32m--> 346\u001b[0;31m                 \u001b[0mself\u001b[0m\u001b[0;34m.\u001b[0m\u001b[0m__import__\u001b[0m\u001b[0;34m(\u001b[0m\u001b[0mvariable\u001b[0m\u001b[0;34m.\u001b[0m\u001b[0mowner\u001b[0m\u001b[0;34m,\u001b[0m \u001b[0mreason\u001b[0m\u001b[0;34m=\u001b[0m\u001b[0mreason\u001b[0m\u001b[0;34m)\u001b[0m\u001b[0;34m\u001b[0m\u001b[0;34m\u001b[0m\u001b[0m\n\u001b[0m\u001b[1;32m    347\u001b[0m         elif (variable.owner is None and\n\u001b[1;32m    348\u001b[0m                 \u001b[0;32mnot\u001b[0m \u001b[0misinstance\u001b[0m\u001b[0;34m(\u001b[0m\u001b[0mvariable\u001b[0m\u001b[0;34m,\u001b[0m \u001b[0mgraph\u001b[0m\u001b[0;34m.\u001b[0m\u001b[0mConstant\u001b[0m\u001b[0;34m)\u001b[0m \u001b[0;32mand\u001b[0m\u001b[0;34m\u001b[0m\u001b[0;34m\u001b[0m\u001b[0m\n",
      "\u001b[0;32m~/transits/lib/python3.7/site-packages/theano/gof/fg.py\u001b[0m in \u001b[0;36m__import__\u001b[0;34m(self, apply_node, check, reason)\u001b[0m\n\u001b[1;32m    389\u001b[0m                                      \u001b[0;34m\"for more information on this error.\"\u001b[0m\u001b[0;34m\u001b[0m\u001b[0;34m\u001b[0m\u001b[0m\n\u001b[1;32m    390\u001b[0m                                      % (node.inputs.index(r), str(node)))\n\u001b[0;32m--> 391\u001b[0;31m                         \u001b[0;32mraise\u001b[0m \u001b[0mMissingInputError\u001b[0m\u001b[0;34m(\u001b[0m\u001b[0merror_msg\u001b[0m\u001b[0;34m,\u001b[0m \u001b[0mvariable\u001b[0m\u001b[0;34m=\u001b[0m\u001b[0mr\u001b[0m\u001b[0;34m)\u001b[0m\u001b[0;34m\u001b[0m\u001b[0;34m\u001b[0m\u001b[0m\n\u001b[0m\u001b[1;32m    392\u001b[0m \u001b[0;34m\u001b[0m\u001b[0m\n\u001b[1;32m    393\u001b[0m         \u001b[0;32mfor\u001b[0m \u001b[0mnode\u001b[0m \u001b[0;32min\u001b[0m \u001b[0mnew_nodes\u001b[0m\u001b[0;34m:\u001b[0m\u001b[0;34m\u001b[0m\u001b[0;34m\u001b[0m\u001b[0m\n",
      "\u001b[0;31mMissingInputError\u001b[0m: Input 0 of the graph (indices start from 0), used to compute sigmoid(b_interval__), was not provided and not given a value. Use the Theano flag exception_verbosity='high', for more information on this error."
     ]
    }
   ],
   "source": [
    "with model:\n",
    "    map_estimate = pm.find_MAP(model=model, method=\"powell\")\n",
    "    \n",
    "with simple_model:\n",
    "    simple_map_estimate = pm.find_MAP(model=simple_model, method=\"powell\")\n",
    "\n",
    "llks = [map_estimate['llk'],simple_map_estimate['llk']]\n",
    "print(llks[0]-llks[1])"
   ]
  },
  {
   "cell_type": "code",
   "execution_count": 232,
   "metadata": {},
   "outputs": [
    {
     "name": "stderr",
     "output_type": "stream",
     "text": [
      "/Users/hosborn/transits/lib/python3.7/site-packages/theano/tensor/subtensor.py:2197: FutureWarning: Using a non-tuple sequence for multidimensional indexing is deprecated; use `arr[tuple(seq)]` instead of `arr[seq]`. In the future this will be interpreted as an array index, `arr[np.array(seq)]`, which will result either in an error or a different result.\n",
      "  rval = inputs[0].__getitem__(inputs[1:])\n"
     ]
    },
    {
     "data": {
      "text/plain": [
       "array(50312.07170081)"
      ]
     },
     "execution_count": 232,
     "metadata": {},
     "output_type": "execute_result"
    }
   ],
   "source": []
  },
  {
   "cell_type": "code",
   "execution_count": 240,
   "metadata": {},
   "outputs": [
    {
     "data": {
      "text/plain": [
       "{'b_interval__': array(3.11667654),\n",
       " 't_offset_interval__': array(-0.00156331),\n",
       " 'mu_interval__': array(-0.00742709),\n",
       " 'sigma_log__': array(-0.3006899),\n",
       " 'log_depths_interval__': array([ 0.40338286,  0.03046975,  0.25782299, -0.26215213,  0.19073435,\n",
       "        -0.25293117,  0.39311232, -0.28310405,  0.26223928, -0.55562714,\n",
       "        -0.30228409, -0.50949347,  0.25680927, -0.30086498,  0.22035142,\n",
       "         0.31762933]),\n",
       " 'dust_vel_interval__': array(0.04325525),\n",
       " 'log_rad_growth_interval__': array(54.45627508),\n",
       " 'log_dust_dispersion_interval__': array(-33.94163001),\n",
       " 'u_star_tess_interval__': array([-0.13501091, -1.70789131]),\n",
       " 'b': array(0.90969665),\n",
       " 't_offset': array(-0.00020434),\n",
       " 'mu': array(-5.36726791),\n",
       " 'sigma': array(0.74030731),\n",
       " 'log_depths': array([-4.42464854, -5.27916332, -4.75386015, -5.9560369 , -4.90788216,\n",
       "        -5.93494983, -4.44760518, -6.00385565, -4.74376391, -6.60959332,\n",
       "        -6.04750731, -6.50959584, -4.75617845, -6.04428177, -4.83974589,\n",
       "        -4.61765854]),\n",
       " 'dust_vel': array(0.00648728),\n",
       " 'sma_phantom': array(0.0134507),\n",
       " 'per_phantom': array(0.65359506),\n",
       " 'ecc_phantom': array(0.00648728),\n",
       " 'log_rad_growth': array(10.),\n",
       " 'planet_ratios': array([0.00927058, 0.00927502, 0.00928097, 0.00928896, 0.00929967,\n",
       "        0.00931406, 0.00933336, 0.00935926, 0.00939402, 0.00944066,\n",
       "        0.00950326, 0.00958725, 0.00969997, 0.00985124, 0.01005422,\n",
       "        0.01032662, 0.01069216, 0.01118269, 0.01184096, 0.01272433,\n",
       "        0.01390975, 0.01550052, 0.01763524, 0.02049991, 0.02434414,\n",
       "        0.02950289, 0.03642563, 0.04571556, 0.05818212, 0.07491154,\n",
       "        0.09736147, 0.12748802, 0.16791615, 0.22216842, 0.2949719 ]),\n",
       " 'log_dust_dispersion': array(2.),\n",
       " 'dispersion': array([0.25      , 0.23483995, 0.22059921, 0.20722202, 0.19465604,\n",
       "        0.18285206, 0.17176387, 0.16134807, 0.15156389, 0.14237303,\n",
       "        0.1337395 , 0.12562951, 0.11801131, 0.11085508, 0.1041328 ,\n",
       "        0.09781817, 0.09188645, 0.08631444, 0.08108031, 0.07616359,\n",
       "        0.07154501, 0.06720651, 0.06313109, 0.05930281, 0.05570667,\n",
       "        0.05232861, 0.04915539, 0.0461746 , 0.04337456, 0.04074432,\n",
       "        0.03827358, 0.03595266, 0.03377248, 0.03172451, 0.02980073]),\n",
       " 'u_star_tess': array([0.46629845, 0.15343742]),\n",
       " 'model_lc': array([0., 0., 0., ..., 0., 0., 0.])}"
      ]
     },
     "execution_count": 240,
     "metadata": {},
     "output_type": "execute_result"
    }
   ],
   "source": [
    "map_estimate"
   ]
  },
  {
   "cell_type": "code",
   "execution_count": null,
   "metadata": {},
   "outputs": [],
   "source": []
  },
  {
   "cell_type": "code",
   "execution_count": null,
   "metadata": {},
   "outputs": [],
   "source": []
  },
  {
   "cell_type": "code",
   "execution_count": null,
   "metadata": {},
   "outputs": [],
   "source": []
  },
  {
   "cell_type": "code",
   "execution_count": 229,
   "metadata": {},
   "outputs": [
    {
     "data": {
      "text/plain": [
       "{'b_interval__': array(2.22290202),\n",
       " 't_offset_interval__': array(0.00780163),\n",
       " 'log_r_pl_interval__': array(1.12601406),\n",
       " 'u_star_tess_interval__': array([ 0.10840216, -1.33687658]),\n",
       " 'b': array(0.85717298),\n",
       " 't_offset': array(0.00101975),\n",
       " 'log_r_pl': array(-2.52884559),\n",
       " 'u_star_tess': array([0.52707403, 0.20802417]),\n",
       " 'model_lc': array([[0.],\n",
       "        [0.],\n",
       "        [0.],\n",
       "        ...,\n",
       "        [0.],\n",
       "        [0.],\n",
       "        [0.]])}"
      ]
     },
     "execution_count": 229,
     "metadata": {},
     "output_type": "execute_result"
    }
   ],
   "source": [
    "simple_map_estimate"
   ]
  },
  {
   "cell_type": "code",
   "execution_count": null,
   "metadata": {},
   "outputs": [],
   "source": []
  },
  {
   "cell_type": "code",
   "execution_count": 170,
   "metadata": {},
   "outputs": [
    {
     "name": "stderr",
     "output_type": "stream",
     "text": [
      "Auto-assigning NUTS sampler...\n",
      "Initializing NUTS using jitter+adapt_diag...\n",
      "INFO (theano.gof.compilelock): Refreshing lock /Users/hosborn/.theano/compiledir_Darwin-19.6.0-x86_64-i386-64bit-i386-3.7.6-64/lock_dir/lock\n",
      "/Users/hosborn/transits/lib/python3.7/site-packages/theano/tensor/subtensor.py:2197: FutureWarning: Using a non-tuple sequence for multidimensional indexing is deprecated; use `arr[tuple(seq)]` instead of `arr[seq]`. In the future this will be interpreted as an array index, `arr[np.array(seq)]`, which will result either in an error or a different result.\n",
      "  rval = inputs[0].__getitem__(inputs[1:])\n",
      "Multiprocess sampling (4 chains in 4 jobs)\n",
      "NUTS: [u_star_tess, log_dust_dispersion, log_rad_growth, dust_vel, log_depths, t_offset, b]\n",
      "Sampling 4 chains, 1 divergences: 100%|██████████| 4000/4000 [1:11:55<00:00,  1.08s/draws]\n",
      "INFO (theano.gof.compilelock): Refreshing lock /Users/hosborn/.theano/compiledir_Darwin-19.6.0-x86_64-i386-64bit-i386-3.7.6-64/lock_dir/lock\n",
      "/Users/hosborn/transits/lib/python3.7/site-packages/theano/tensor/subtensor.py:2197: FutureWarning: Using a non-tuple sequence for multidimensional indexing is deprecated; use `arr[tuple(seq)]` instead of `arr[seq]`. In the future this will be interpreted as an array index, `arr[np.array(seq)]`, which will result either in an error or a different result.\n",
      "  rval = inputs[0].__getitem__(inputs[1:])\n",
      "There was 1 divergence after tuning. Increase `target_accept` or reparameterize.\n",
      "The acceptance probability does not match the target. It is 0.6661683635162907, but should be close to 0.8. Try to increase the number of tuning steps.\n",
      "The acceptance probability does not match the target. It is 0.6316178077564346, but should be close to 0.8. Try to increase the number of tuning steps.\n",
      "The acceptance probability does not match the target. It is 0.7067631074133194, but should be close to 0.8. Try to increase the number of tuning steps.\n",
      "The rhat statistic is larger than 1.4 for some parameters. The sampler did not converge.\n",
      "The estimated number of effective samples is smaller than 200 for some parameters.\n"
     ]
    }
   ],
   "source": [
    "with model:\n",
    "    #step = pm.Metropolis()\n",
    "    #trace = pm.sample(500, step)\n",
    "    trace = pm.sample(500)"
   ]
  },
  {
   "cell_type": "code",
   "execution_count": 171,
   "metadata": {},
   "outputs": [
    {
     "data": {
      "text/html": [
       "<div>\n",
       "<style scoped>\n",
       "    .dataframe tbody tr th:only-of-type {\n",
       "        vertical-align: middle;\n",
       "    }\n",
       "\n",
       "    .dataframe tbody tr th {\n",
       "        vertical-align: top;\n",
       "    }\n",
       "\n",
       "    .dataframe thead th {\n",
       "        text-align: right;\n",
       "    }\n",
       "</style>\n",
       "<table border=\"1\" class=\"dataframe\">\n",
       "  <thead>\n",
       "    <tr style=\"text-align: right;\">\n",
       "      <th></th>\n",
       "      <th>mean</th>\n",
       "      <th>sd</th>\n",
       "      <th>hpd_3%</th>\n",
       "      <th>hpd_97%</th>\n",
       "      <th>mcse_mean</th>\n",
       "      <th>mcse_sd</th>\n",
       "      <th>ess_mean</th>\n",
       "      <th>ess_sd</th>\n",
       "      <th>ess_bulk</th>\n",
       "      <th>ess_tail</th>\n",
       "      <th>r_hat</th>\n",
       "    </tr>\n",
       "  </thead>\n",
       "  <tbody>\n",
       "    <tr>\n",
       "      <th>b</th>\n",
       "      <td>0.902</td>\n",
       "      <td>0.012</td>\n",
       "      <td>0.880</td>\n",
       "      <td>0.924</td>\n",
       "      <td>0.001</td>\n",
       "      <td>0.001</td>\n",
       "      <td>104.0</td>\n",
       "      <td>104.0</td>\n",
       "      <td>107.0</td>\n",
       "      <td>182.0</td>\n",
       "      <td>1.04</td>\n",
       "    </tr>\n",
       "    <tr>\n",
       "      <th>t_offset</th>\n",
       "      <td>0.007</td>\n",
       "      <td>0.002</td>\n",
       "      <td>0.005</td>\n",
       "      <td>0.010</td>\n",
       "      <td>0.000</td>\n",
       "      <td>0.000</td>\n",
       "      <td>32.0</td>\n",
       "      <td>32.0</td>\n",
       "      <td>43.0</td>\n",
       "      <td>55.0</td>\n",
       "      <td>1.07</td>\n",
       "    </tr>\n",
       "    <tr>\n",
       "      <th>dust_vel</th>\n",
       "      <td>-0.054</td>\n",
       "      <td>0.100</td>\n",
       "      <td>-0.169</td>\n",
       "      <td>0.139</td>\n",
       "      <td>0.048</td>\n",
       "      <td>0.036</td>\n",
       "      <td>4.0</td>\n",
       "      <td>4.0</td>\n",
       "      <td>7.0</td>\n",
       "      <td>37.0</td>\n",
       "      <td>1.63</td>\n",
       "    </tr>\n",
       "    <tr>\n",
       "      <th>sma_phantom</th>\n",
       "      <td>0.014</td>\n",
       "      <td>0.000</td>\n",
       "      <td>0.013</td>\n",
       "      <td>0.014</td>\n",
       "      <td>0.000</td>\n",
       "      <td>0.000</td>\n",
       "      <td>57.0</td>\n",
       "      <td>57.0</td>\n",
       "      <td>48.0</td>\n",
       "      <td>210.0</td>\n",
       "      <td>1.08</td>\n",
       "    </tr>\n",
       "    <tr>\n",
       "      <th>per_phantom</th>\n",
       "      <td>0.667</td>\n",
       "      <td>0.007</td>\n",
       "      <td>0.655</td>\n",
       "      <td>0.679</td>\n",
       "      <td>0.001</td>\n",
       "      <td>0.001</td>\n",
       "      <td>58.0</td>\n",
       "      <td>58.0</td>\n",
       "      <td>48.0</td>\n",
       "      <td>210.0</td>\n",
       "      <td>1.08</td>\n",
       "    </tr>\n",
       "    <tr>\n",
       "      <th>ecc_phantom</th>\n",
       "      <td>0.110</td>\n",
       "      <td>0.031</td>\n",
       "      <td>0.043</td>\n",
       "      <td>0.162</td>\n",
       "      <td>0.005</td>\n",
       "      <td>0.003</td>\n",
       "      <td>43.0</td>\n",
       "      <td>43.0</td>\n",
       "      <td>48.0</td>\n",
       "      <td>210.0</td>\n",
       "      <td>1.08</td>\n",
       "    </tr>\n",
       "    <tr>\n",
       "      <th>log_rad_growth</th>\n",
       "      <td>-2.514</td>\n",
       "      <td>5.120</td>\n",
       "      <td>-9.994</td>\n",
       "      <td>6.736</td>\n",
       "      <td>1.310</td>\n",
       "      <td>0.945</td>\n",
       "      <td>15.0</td>\n",
       "      <td>15.0</td>\n",
       "      <td>18.0</td>\n",
       "      <td>231.0</td>\n",
       "      <td>1.19</td>\n",
       "    </tr>\n",
       "    <tr>\n",
       "      <th>log_dust_dispersion</th>\n",
       "      <td>5.477</td>\n",
       "      <td>2.133</td>\n",
       "      <td>2.283</td>\n",
       "      <td>9.517</td>\n",
       "      <td>0.351</td>\n",
       "      <td>0.252</td>\n",
       "      <td>37.0</td>\n",
       "      <td>36.0</td>\n",
       "      <td>39.0</td>\n",
       "      <td>103.0</td>\n",
       "      <td>1.08</td>\n",
       "    </tr>\n",
       "    <tr>\n",
       "      <th>u_star_tess[0]</th>\n",
       "      <td>0.478</td>\n",
       "      <td>0.049</td>\n",
       "      <td>0.394</td>\n",
       "      <td>0.574</td>\n",
       "      <td>0.002</td>\n",
       "      <td>0.001</td>\n",
       "      <td>587.0</td>\n",
       "      <td>587.0</td>\n",
       "      <td>569.0</td>\n",
       "      <td>733.0</td>\n",
       "      <td>1.01</td>\n",
       "    </tr>\n",
       "    <tr>\n",
       "      <th>u_star_tess[1]</th>\n",
       "      <td>0.172</td>\n",
       "      <td>0.049</td>\n",
       "      <td>0.085</td>\n",
       "      <td>0.263</td>\n",
       "      <td>0.002</td>\n",
       "      <td>0.001</td>\n",
       "      <td>798.0</td>\n",
       "      <td>798.0</td>\n",
       "      <td>817.0</td>\n",
       "      <td>875.0</td>\n",
       "      <td>1.01</td>\n",
       "    </tr>\n",
       "  </tbody>\n",
       "</table>\n",
       "</div>"
      ],
      "text/plain": [
       "                      mean     sd  hpd_3%  hpd_97%  mcse_mean  mcse_sd  \\\n",
       "b                    0.902  0.012   0.880    0.924      0.001    0.001   \n",
       "t_offset             0.007  0.002   0.005    0.010      0.000    0.000   \n",
       "dust_vel            -0.054  0.100  -0.169    0.139      0.048    0.036   \n",
       "sma_phantom          0.014  0.000   0.013    0.014      0.000    0.000   \n",
       "per_phantom          0.667  0.007   0.655    0.679      0.001    0.001   \n",
       "ecc_phantom          0.110  0.031   0.043    0.162      0.005    0.003   \n",
       "log_rad_growth      -2.514  5.120  -9.994    6.736      1.310    0.945   \n",
       "log_dust_dispersion  5.477  2.133   2.283    9.517      0.351    0.252   \n",
       "u_star_tess[0]       0.478  0.049   0.394    0.574      0.002    0.001   \n",
       "u_star_tess[1]       0.172  0.049   0.085    0.263      0.002    0.001   \n",
       "\n",
       "                     ess_mean  ess_sd  ess_bulk  ess_tail  r_hat  \n",
       "b                       104.0   104.0     107.0     182.0   1.04  \n",
       "t_offset                 32.0    32.0      43.0      55.0   1.07  \n",
       "dust_vel                  4.0     4.0       7.0      37.0   1.63  \n",
       "sma_phantom              57.0    57.0      48.0     210.0   1.08  \n",
       "per_phantom              58.0    58.0      48.0     210.0   1.08  \n",
       "ecc_phantom              43.0    43.0      48.0     210.0   1.08  \n",
       "log_rad_growth           15.0    15.0      18.0     231.0   1.19  \n",
       "log_dust_dispersion      37.0    36.0      39.0     103.0   1.08  \n",
       "u_star_tess[0]          587.0   587.0     569.0     733.0   1.01  \n",
       "u_star_tess[1]          798.0   798.0     817.0     875.0   1.01  "
      ]
     },
     "execution_count": 171,
     "metadata": {},
     "output_type": "execute_result"
    }
   ],
   "source": [
    "pm.summary(trace,var_names=['b', 't_offset', 'dust_vel', 'sma_phantom', 'per_phantom',\n",
    "                            'hyper_logdepth_mu','hyper_logdepth_sigma','ecc_phantom',\n",
    "                            'log_rad_growth', 'log_dust_dispersion', 'u_star_tess'])"
   ]
  },
  {
   "cell_type": "code",
   "execution_count": 177,
   "metadata": {},
   "outputs": [
    {
     "name": "stderr",
     "output_type": "stream",
     "text": [
      "/Users/hosborn/transits/lib/python3.7/site-packages/theano/tensor/subtensor.py:2197: FutureWarning: Using a non-tuple sequence for multidimensional indexing is deprecated; use `arr[tuple(seq)]` instead of `arr[seq]`. In the future this will be interpreted as an array index, `arr[np.array(seq)]`, which will result either in an error or a different result.\n",
      "  rval = inputs[0].__getitem__(inputs[1:])\n"
     ]
    },
    {
     "data": {
      "text/html": [
       "<div>\n",
       "<style scoped>\n",
       "    .dataframe tbody tr th:only-of-type {\n",
       "        vertical-align: middle;\n",
       "    }\n",
       "\n",
       "    .dataframe tbody tr th {\n",
       "        vertical-align: top;\n",
       "    }\n",
       "\n",
       "    .dataframe thead th {\n",
       "        text-align: right;\n",
       "    }\n",
       "</style>\n",
       "<table border=\"1\" class=\"dataframe\">\n",
       "  <thead>\n",
       "    <tr style=\"text-align: right;\">\n",
       "      <th></th>\n",
       "      <th>mean</th>\n",
       "      <th>sd</th>\n",
       "      <th>hpd_3%</th>\n",
       "      <th>hpd_97%</th>\n",
       "      <th>mcse_mean</th>\n",
       "      <th>mcse_sd</th>\n",
       "      <th>ess_mean</th>\n",
       "      <th>ess_sd</th>\n",
       "      <th>ess_bulk</th>\n",
       "      <th>ess_tail</th>\n",
       "      <th>r_hat</th>\n",
       "    </tr>\n",
       "  </thead>\n",
       "  <tbody>\n",
       "    <tr>\n",
       "      <th>log_depths[0]</th>\n",
       "      <td>-4.431</td>\n",
       "      <td>0.057</td>\n",
       "      <td>-4.534</td>\n",
       "      <td>-4.319</td>\n",
       "      <td>0.002</td>\n",
       "      <td>0.002</td>\n",
       "      <td>610.0</td>\n",
       "      <td>608.0</td>\n",
       "      <td>607.0</td>\n",
       "      <td>865.0</td>\n",
       "      <td>1.00</td>\n",
       "    </tr>\n",
       "    <tr>\n",
       "      <th>log_depths[1]</th>\n",
       "      <td>-5.308</td>\n",
       "      <td>0.127</td>\n",
       "      <td>-5.558</td>\n",
       "      <td>-5.092</td>\n",
       "      <td>0.005</td>\n",
       "      <td>0.003</td>\n",
       "      <td>747.0</td>\n",
       "      <td>730.0</td>\n",
       "      <td>841.0</td>\n",
       "      <td>582.0</td>\n",
       "      <td>1.01</td>\n",
       "    </tr>\n",
       "    <tr>\n",
       "      <th>log_depths[2]</th>\n",
       "      <td>-4.757</td>\n",
       "      <td>0.077</td>\n",
       "      <td>-4.896</td>\n",
       "      <td>-4.621</td>\n",
       "      <td>0.003</td>\n",
       "      <td>0.002</td>\n",
       "      <td>544.0</td>\n",
       "      <td>544.0</td>\n",
       "      <td>529.0</td>\n",
       "      <td>720.0</td>\n",
       "      <td>1.01</td>\n",
       "    </tr>\n",
       "    <tr>\n",
       "      <th>log_depths[3]</th>\n",
       "      <td>-6.115</td>\n",
       "      <td>0.334</td>\n",
       "      <td>-6.704</td>\n",
       "      <td>-5.555</td>\n",
       "      <td>0.019</td>\n",
       "      <td>0.014</td>\n",
       "      <td>304.0</td>\n",
       "      <td>281.0</td>\n",
       "      <td>504.0</td>\n",
       "      <td>246.0</td>\n",
       "      <td>1.01</td>\n",
       "    </tr>\n",
       "    <tr>\n",
       "      <th>log_depths[4]</th>\n",
       "      <td>-4.914</td>\n",
       "      <td>0.087</td>\n",
       "      <td>-5.081</td>\n",
       "      <td>-4.764</td>\n",
       "      <td>0.004</td>\n",
       "      <td>0.003</td>\n",
       "      <td>376.0</td>\n",
       "      <td>371.0</td>\n",
       "      <td>438.0</td>\n",
       "      <td>441.0</td>\n",
       "      <td>1.02</td>\n",
       "    </tr>\n",
       "    <tr>\n",
       "      <th>log_depths[5]</th>\n",
       "      <td>-6.071</td>\n",
       "      <td>0.317</td>\n",
       "      <td>-6.646</td>\n",
       "      <td>-5.579</td>\n",
       "      <td>0.020</td>\n",
       "      <td>0.014</td>\n",
       "      <td>262.0</td>\n",
       "      <td>252.0</td>\n",
       "      <td>296.0</td>\n",
       "      <td>240.0</td>\n",
       "      <td>1.01</td>\n",
       "    </tr>\n",
       "    <tr>\n",
       "      <th>log_depths[6]</th>\n",
       "      <td>-4.455</td>\n",
       "      <td>0.052</td>\n",
       "      <td>-4.555</td>\n",
       "      <td>-4.362</td>\n",
       "      <td>0.002</td>\n",
       "      <td>0.001</td>\n",
       "      <td>672.0</td>\n",
       "      <td>672.0</td>\n",
       "      <td>677.0</td>\n",
       "      <td>1063.0</td>\n",
       "      <td>1.01</td>\n",
       "    </tr>\n",
       "    <tr>\n",
       "      <th>log_depths[7]</th>\n",
       "      <td>-6.232</td>\n",
       "      <td>0.321</td>\n",
       "      <td>-6.849</td>\n",
       "      <td>-5.674</td>\n",
       "      <td>0.013</td>\n",
       "      <td>0.010</td>\n",
       "      <td>587.0</td>\n",
       "      <td>566.0</td>\n",
       "      <td>722.0</td>\n",
       "      <td>456.0</td>\n",
       "      <td>1.00</td>\n",
       "    </tr>\n",
       "    <tr>\n",
       "      <th>log_depths[8]</th>\n",
       "      <td>-4.749</td>\n",
       "      <td>0.072</td>\n",
       "      <td>-4.875</td>\n",
       "      <td>-4.615</td>\n",
       "      <td>0.003</td>\n",
       "      <td>0.002</td>\n",
       "      <td>454.0</td>\n",
       "      <td>454.0</td>\n",
       "      <td>433.0</td>\n",
       "      <td>779.0</td>\n",
       "      <td>1.01</td>\n",
       "    </tr>\n",
       "    <tr>\n",
       "      <th>log_depths[9]</th>\n",
       "      <td>-7.204</td>\n",
       "      <td>0.444</td>\n",
       "      <td>-7.997</td>\n",
       "      <td>-6.474</td>\n",
       "      <td>0.015</td>\n",
       "      <td>0.011</td>\n",
       "      <td>845.0</td>\n",
       "      <td>802.0</td>\n",
       "      <td>767.0</td>\n",
       "      <td>395.0</td>\n",
       "      <td>1.01</td>\n",
       "    </tr>\n",
       "    <tr>\n",
       "      <th>log_depths[10]</th>\n",
       "      <td>-6.238</td>\n",
       "      <td>0.329</td>\n",
       "      <td>-6.846</td>\n",
       "      <td>-5.686</td>\n",
       "      <td>0.013</td>\n",
       "      <td>0.010</td>\n",
       "      <td>622.0</td>\n",
       "      <td>595.0</td>\n",
       "      <td>752.0</td>\n",
       "      <td>621.0</td>\n",
       "      <td>1.01</td>\n",
       "    </tr>\n",
       "    <tr>\n",
       "      <th>log_depths[11]</th>\n",
       "      <td>-7.102</td>\n",
       "      <td>0.463</td>\n",
       "      <td>-7.908</td>\n",
       "      <td>-6.326</td>\n",
       "      <td>0.022</td>\n",
       "      <td>0.016</td>\n",
       "      <td>452.0</td>\n",
       "      <td>440.0</td>\n",
       "      <td>451.0</td>\n",
       "      <td>348.0</td>\n",
       "      <td>1.00</td>\n",
       "    </tr>\n",
       "    <tr>\n",
       "      <th>log_depths[12]</th>\n",
       "      <td>-4.764</td>\n",
       "      <td>0.074</td>\n",
       "      <td>-4.893</td>\n",
       "      <td>-4.612</td>\n",
       "      <td>0.003</td>\n",
       "      <td>0.002</td>\n",
       "      <td>508.0</td>\n",
       "      <td>505.0</td>\n",
       "      <td>523.0</td>\n",
       "      <td>550.0</td>\n",
       "      <td>1.01</td>\n",
       "    </tr>\n",
       "    <tr>\n",
       "      <th>log_depths[13]</th>\n",
       "      <td>-6.272</td>\n",
       "      <td>0.354</td>\n",
       "      <td>-6.930</td>\n",
       "      <td>-5.716</td>\n",
       "      <td>0.018</td>\n",
       "      <td>0.013</td>\n",
       "      <td>387.0</td>\n",
       "      <td>369.0</td>\n",
       "      <td>544.0</td>\n",
       "      <td>357.0</td>\n",
       "      <td>1.00</td>\n",
       "    </tr>\n",
       "    <tr>\n",
       "      <th>log_depths[14]</th>\n",
       "      <td>-4.851</td>\n",
       "      <td>0.074</td>\n",
       "      <td>-4.996</td>\n",
       "      <td>-4.718</td>\n",
       "      <td>0.003</td>\n",
       "      <td>0.002</td>\n",
       "      <td>781.0</td>\n",
       "      <td>779.0</td>\n",
       "      <td>781.0</td>\n",
       "      <td>904.0</td>\n",
       "      <td>1.01</td>\n",
       "    </tr>\n",
       "    <tr>\n",
       "      <th>log_depths[15]</th>\n",
       "      <td>-4.627</td>\n",
       "      <td>0.063</td>\n",
       "      <td>-4.742</td>\n",
       "      <td>-4.513</td>\n",
       "      <td>0.002</td>\n",
       "      <td>0.002</td>\n",
       "      <td>686.0</td>\n",
       "      <td>686.0</td>\n",
       "      <td>700.0</td>\n",
       "      <td>907.0</td>\n",
       "      <td>1.00</td>\n",
       "    </tr>\n",
       "  </tbody>\n",
       "</table>\n",
       "</div>"
      ],
      "text/plain": [
       "                 mean     sd  hpd_3%  hpd_97%  mcse_mean  mcse_sd  ess_mean  \\\n",
       "log_depths[0]  -4.431  0.057  -4.534   -4.319      0.002    0.002     610.0   \n",
       "log_depths[1]  -5.308  0.127  -5.558   -5.092      0.005    0.003     747.0   \n",
       "log_depths[2]  -4.757  0.077  -4.896   -4.621      0.003    0.002     544.0   \n",
       "log_depths[3]  -6.115  0.334  -6.704   -5.555      0.019    0.014     304.0   \n",
       "log_depths[4]  -4.914  0.087  -5.081   -4.764      0.004    0.003     376.0   \n",
       "log_depths[5]  -6.071  0.317  -6.646   -5.579      0.020    0.014     262.0   \n",
       "log_depths[6]  -4.455  0.052  -4.555   -4.362      0.002    0.001     672.0   \n",
       "log_depths[7]  -6.232  0.321  -6.849   -5.674      0.013    0.010     587.0   \n",
       "log_depths[8]  -4.749  0.072  -4.875   -4.615      0.003    0.002     454.0   \n",
       "log_depths[9]  -7.204  0.444  -7.997   -6.474      0.015    0.011     845.0   \n",
       "log_depths[10] -6.238  0.329  -6.846   -5.686      0.013    0.010     622.0   \n",
       "log_depths[11] -7.102  0.463  -7.908   -6.326      0.022    0.016     452.0   \n",
       "log_depths[12] -4.764  0.074  -4.893   -4.612      0.003    0.002     508.0   \n",
       "log_depths[13] -6.272  0.354  -6.930   -5.716      0.018    0.013     387.0   \n",
       "log_depths[14] -4.851  0.074  -4.996   -4.718      0.003    0.002     781.0   \n",
       "log_depths[15] -4.627  0.063  -4.742   -4.513      0.002    0.002     686.0   \n",
       "\n",
       "                ess_sd  ess_bulk  ess_tail  r_hat  \n",
       "log_depths[0]    608.0     607.0     865.0   1.00  \n",
       "log_depths[1]    730.0     841.0     582.0   1.01  \n",
       "log_depths[2]    544.0     529.0     720.0   1.01  \n",
       "log_depths[3]    281.0     504.0     246.0   1.01  \n",
       "log_depths[4]    371.0     438.0     441.0   1.02  \n",
       "log_depths[5]    252.0     296.0     240.0   1.01  \n",
       "log_depths[6]    672.0     677.0    1063.0   1.01  \n",
       "log_depths[7]    566.0     722.0     456.0   1.00  \n",
       "log_depths[8]    454.0     433.0     779.0   1.01  \n",
       "log_depths[9]    802.0     767.0     395.0   1.01  \n",
       "log_depths[10]   595.0     752.0     621.0   1.01  \n",
       "log_depths[11]   440.0     451.0     348.0   1.00  \n",
       "log_depths[12]   505.0     523.0     550.0   1.01  \n",
       "log_depths[13]   369.0     544.0     357.0   1.00  \n",
       "log_depths[14]   779.0     781.0     904.0   1.01  \n",
       "log_depths[15]   686.0     700.0     907.0   1.00  "
      ]
     },
     "execution_count": 177,
     "metadata": {},
     "output_type": "execute_result"
    }
   ],
   "source": [
    "pm.summary(trace,var_names=['log_depths'])"
   ]
  },
  {
   "cell_type": "code",
   "execution_count": 178,
   "metadata": {},
   "outputs": [
    {
     "data": {
      "text/plain": [
       "(2000, 15000)"
      ]
     },
     "execution_count": 178,
     "metadata": {},
     "output_type": "execute_result"
    }
   ],
   "source": [
    "trace['model_lc']"
   ]
  },
  {
   "cell_type": "code",
   "execution_count": 188,
   "metadata": {},
   "outputs": [
    {
     "data": {
      "image/png": "[encoded data removed]",
      "text/plain": [
       "<Figure size 432x288 with 1 Axes>"
      ]
     },
     "metadata": {
      "needs_background": "light"
     },
     "output_type": "display_data"
    }
   ],
   "source": [
    "_=plt.plot(trace['model_lc'][np.random.choice(len(trace['log_rad_growth']),25),310:425].T)"
   ]
  },
  {
   "cell_type": "code",
   "execution_count": 95,
   "metadata": {},
   "outputs": [
    {
     "data": {
      "text/plain": [
       "['b_interval__',\n",
       " 't_offset_interval__',\n",
       " 'log_depths_interval__',\n",
       " 'dust_vel_interval__',\n",
       " 'log_rad_growth_interval__',\n",
       " 'log_dust_dispersion_interval__',\n",
       " 'u_star_tess_interval__',\n",
       " 'b',\n",
       " 't_offset',\n",
       " 'log_depths',\n",
       " 'dust_vel',\n",
       " 'sma_phantom',\n",
       " 'per_phantom',\n",
       " 'ecc_phantom',\n",
       " 'log_rad_growth',\n",
       " 'planet_ratios',\n",
       " 'log_dust_dispersion',\n",
       " 'dispersion',\n",
       " 'u_star_tess',\n",
       " 'model_lc']"
      ]
     },
     "execution_count": 95,
     "metadata": {},
     "output_type": "execute_result"
    }
   ],
   "source": [
    "trace.varnames"
   ]
  },
  {
   "cell_type": "code",
   "execution_count": null,
   "metadata": {},
   "outputs": [],
   "source": []
  },
  {
   "cell_type": "code",
   "execution_count": null,
   "metadata": {},
   "outputs": [],
   "source": []
  },
  {
   "cell_type": "code",
   "execution_count": 57,
   "metadata": {},
   "outputs": [
    {
     "data": {
      "text/plain": [
       "[<matplotlib.lines.Line2D at 0x138aa3410>]"
      ]
     },
     "execution_count": 57,
     "metadata": {},
     "output_type": "execute_result"
    },
    {
     "data": {
      "image/png": "[encoded data removed]",
      "text/plain": [
       "<Figure size 432x288 with 1 Axes>"
      ]
     },
     "metadata": {
      "needs_background": "light"
     },
     "output_type": "display_data"
    }
   ],
   "source": [
    "log_rad_growth=10.0\n",
    "planet_ratios_init= init_planet_ratio+(1+np.exp(log_rad_growth))**np.linspace(1,2,n_steps)\n",
    "plt.plot((planet_ratios_init-planet_ratios_init[0])/(3*planet_ratios_init[-1])+init_planet_ratio)"
   ]
  },
  {
   "cell_type": "code",
   "execution_count": null,
   "metadata": {},
   "outputs": [],
   "source": []
  },
  {
   "cell_type": "code",
   "execution_count": null,
   "metadata": {},
   "outputs": [],
   "source": []
  },
  {
   "cell_type": "code",
   "execution_count": null,
   "metadata": {},
   "outputs": [],
   "source": []
  },
  {
   "cell_type": "code",
   "execution_count": null,
   "metadata": {},
   "outputs": [],
   "source": []
  },
  {
   "cell_type": "code",
   "execution_count": null,
   "metadata": {},
   "outputs": [],
   "source": []
  },
  {
   "cell_type": "code",
   "execution_count": null,
   "metadata": {},
   "outputs": [],
   "source": []
  },
  {
   "cell_type": "code",
   "execution_count": null,
   "metadata": {},
   "outputs": [],
   "source": []
  },
  {
   "cell_type": "code",
   "execution_count": null,
   "metadata": {},
   "outputs": [],
   "source": []
  },
  {
   "cell_type": "code",
   "execution_count": null,
   "metadata": {},
   "outputs": [],
   "source": []
  },
  {
   "cell_type": "code",
   "execution_count": null,
   "metadata": {},
   "outputs": [],
   "source": []
  },
  {
   "cell_type": "code",
   "execution_count": null,
   "metadata": {},
   "outputs": [],
   "source": []
  },
  {
   "cell_type": "code",
   "execution_count": null,
   "metadata": {},
   "outputs": [],
   "source": []
  },
  {
   "cell_type": "code",
   "execution_count": null,
   "metadata": {},
   "outputs": [],
   "source": []
  },
  {
   "cell_type": "code",
   "execution_count": 21,
   "metadata": {},
   "outputs": [
    {
     "data": {
      "text/plain": [
       "[<matplotlib.lines.Line2D at 0x13752b2d0>]"
      ]
     },
     "execution_count": 21,
     "metadata": {},
     "output_type": "execute_result"
    },
    {
     "data": {
      "image/png": "[encoded data removed]",
      "text/plain": [
       "<Figure size 432x288 with 1 Axes>"
      ]
     },
     "metadata": {
      "needs_background": "light"
     },
     "output_type": "display_data"
    }
   ],
   "source": [
    "for log_rad_growth in np.arange(-7,1.0,0.5):\n",
    "    planet_ratios_init= init_planet_ratio+(1+np.exp(log_rad_growth))**np.linspace(1,2,n_steps)\n",
    "    plt.plot((planet_ratios_init-planet_ratios_init[0])/(2*planet_ratios_init[-1])+init_planet_ratio) #Limiting it at 0.5\n",
    "plt.plot([0],[init_planet_ratio],'o')"
   ]
  },
  {
   "cell_type": "code",
   "execution_count": null,
   "metadata": {},
   "outputs": [],
   "source": [
    "for log_rad_growth in np.arange(-6,0.0,0.5):\n",
    "    init_planet_ratio = 0.01\n",
    "    planet_ratios_init= init_planet_ratio+(1+np.exp(log_rad_growth))**np.linspace(2,1,n_steps)\n",
    "    planet_ratios     = (planet_ratios_init-planet_ratios_init[-1])/(2*planet_ratios_init[0])+init_planet_ratio\n",
    "    plt.plot(planet_ratios)\n"
   ]
  },
  {
   "cell_type": "code",
   "execution_count": null,
   "metadata": {},
   "outputs": [],
   "source": []
  },
  {
   "cell_type": "code",
   "execution_count": 16,
   "metadata": {},
   "outputs": [
    {
     "data": {
      "text/plain": [
       "[<matplotlib.lines.Line2D at 0x137b84190>]"
      ]
     },
     "execution_count": 16,
     "metadata": {},
     "output_type": "execute_result"
    },
    {
     "data": {
      "image/png": "[encoded data removed]",
      "text/plain": [
       "<Figure size 432x288 with 1 Axes>"
      ]
     },
     "metadata": {
      "needs_background": "light"
     },
     "output_type": "display_data"
    }
   ],
   "source": [
    "plt.plot((1+np.exp(-2))**np.linspace(2,1,n_steps))"
   ]
  },
  {
   "cell_type": "code",
   "execution_count": null,
   "metadata": {},
   "outputs": [],
   "source": []
  }
 ],
 "metadata": {
  "kernelspec": {
   "display_name": "Python 3",
   "language": "python",
   "name": "python3"
  },
  "language_info": {
   "codemirror_mode": {
    "name": "ipython",
    "version": 3
   },
   "file_extension": ".py",
   "mimetype": "text/x-python",
   "name": "python",
   "nbconvert_exporter": "python",
   "pygments_lexer": "ipython3",
   "version": "3.7.6"
  }
 },
 "nbformat": 4,
 "nbformat_minor": 4
}
