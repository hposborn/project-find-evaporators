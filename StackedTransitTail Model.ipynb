{
 "cells": [
  {
   "cell_type": "code",
   "execution_count": 1,
   "metadata": {},
   "outputs": [],
   "source": [
    "from astropy import units as u\n",
    "from astropy import constants as c\n",
    "\n",
    "import numpy as np\n",
    "import matplotlib.pyplot as plt\n",
    "%matplotlib inline\n",
    "\n",
    "import exoplanet as xo\n",
    "import theano.tensor as tt\n",
    "import theano.tensor.extra_ops as ttx\n",
    "\n",
    "import pandas as pd\n",
    "\n",
    "import pymc3 as pm\n",
    "%load_ext autoreload\n",
    "%autoreload 2"
   ]
  },
  {
   "cell_type": "code",
   "execution_count": 2,
   "metadata": {},
   "outputs": [],
   "source": [
    "dat=np.genfromtxt(\"k1255_lc.dat\")\n",
    "\n",
    "n_pnts=15000\n",
    "\n",
    "#Taking a snippet of KIC1255 data for the model:\n",
    "t=dat[:n_pnts,0]\n",
    "flux= dat[:n_pnts,1]-np.nanmedian(dat[:n_pnts,1])\n",
    "flux_err= dat[:n_pnts,2]\n",
    "cadence=np.nanmedian(np.diff(t))"
   ]
  },
  {
   "cell_type": "code",
   "execution_count": 3,
   "metadata": {},
   "outputs": [],
   "source": [
    "#Orbital params from BLS/candidate - we can fix these here as they should be good enough\n",
    "t_0=566.824+0.5\n",
    "P=0.6535538"
   ]
  },
  {
   "cell_type": "code",
   "execution_count": 70,
   "metadata": {},
   "outputs": [],
   "source": [
    "# initial parameters\n",
    "use_gp=True\n",
    "init_planet_mass=0.025 #Roughly 25% Mars mass - should be undetectably small yet big enough to have a big hill sphere.\n",
    "n_steps=35\n",
    "\n",
    "#Counting number of transits to model, and assigning time to each nearby transit:\n",
    "phase        = (t-t_0)/P\n",
    "rounded_phase= np.round(phase)\n",
    "trns_numbers = np.unique(rounded_phase)\n",
    "phase_index  = np.vstack([[rounded_phase==n_tr] for n_tr in trns_numbers])\n",
    "\n",
    "#Stellar params from e.g. TIC:\n",
    "Rs=1.0#Rs=pm.Normal('Rs',mu=1.0,sd=0.1)\n",
    "Ms=0.76#Ms=pm.Normal('Ms',mu=1.0,sd=0.15)\n",
    "Teff=np.array([4677,100,100])\n",
    "logg=np.array([4.63,0.25,0.25])"
   ]
  },
  {
   "cell_type": "code",
   "execution_count": 66,
   "metadata": {},
   "outputs": [],
   "source": [
    "n_steps=23\n",
    "phase_coverage=0.2 #Max at around 0.2\n",
    "\n",
    "sma_circ    = (((c.G.value*(u.Msun.to(u.kg))*Ms*(P*86400)**2)/(4*np.pi**2))**(1/3))/(u.AU.to(u.m))\n"
   ]
  },
  {
   "cell_type": "code",
   "execution_count": 71,
   "metadata": {},
   "outputs": [],
   "source": [
    "def getLDs(Teff,logg,n_samples,FeH=0.0,mission='tess',how='2'):\n",
    "    Teff_samples = np.random.normal(Teff[0],np.average(abs(Teff[1:])),n_samples)\n",
    "    logg_samples = np.random.normal(logg[0],np.average(abs(logg[1:])),n_samples)\n",
    "\n",
    "    from scipy.interpolate import CloughTocher2DInterpolator as ct2d\n",
    "\n",
    "    if mission[0].lower()==\"t\":\n",
    "        import pandas as pd\n",
    "        from astropy.io import ascii\n",
    "        TessLDs=ascii.read('/Users/hosborn/Postdoc/MonoTools/data/tables/tessLDs.txt').to_pandas()\n",
    "        TessLDs=TessLDs.rename(columns={'col1':'logg','col2':'Teff','col3':'FeH','col4':'L/HP','col5':'a',\n",
    "                                           'col6':'b','col7':'mu','col8':'chi2','col9':'Mod','col10':'scope'})\n",
    "        if FeH!=0.0:\n",
    "            #Finding nearest by FeH:\n",
    "            unq_FeHs=pd.unique(TessLDs['FeH'])\n",
    "            TessLDs=TessLDs.loc[TessLDs['FeH']==unq_FeHs[np.argmin(abs(FeH-unq_FeHs.astype(float)))]]\n",
    "\n",
    "        a_interp=ct2d(np.column_stack((TessLDs.Teff.values.astype(float),\n",
    "                                       TessLDs.logg.values.astype(float))),\n",
    "                      TessLDs.a.values.astype(float))\n",
    "        b_interp=ct2d(np.column_stack((TessLDs.Teff.values.astype(float),\n",
    "                                       TessLDs.logg.values.astype(float))),\n",
    "                      TessLDs.b.values.astype(float))\n",
    "\n",
    "        outarr=np.column_stack((a_interp(np.clip(Teff_samples,2300,12000),np.clip(logg_samples,0,5)),\n",
    "                                b_interp(np.clip(Teff_samples,2300,12000),np.clip(logg_samples,0,5))))\n",
    "        return outarr\n",
    "    elif mission[0].lower()==\"k\":\n",
    "        #Get Kepler Limb darkening coefficients.\n",
    "        types={'1':[3],'2':[4, 5],'3':[6, 7, 8],'4':[9, 10, 11, 12]}\n",
    "        if how in types:\n",
    "            checkint = types[how]\n",
    "            #print(checkint)\n",
    "        else:\n",
    "            print(\"no key...\")\n",
    "\n",
    "        arr = np.genfromtxt('/Users/hosborn/Postdoc/MonoTools/data/tables/KeplerLDlaws.txt',skip_header=2)\n",
    "        #Selecting FeH manually:\n",
    "        feh_ix=arr[:,2]==np.unique(arr[:, 2])[np.argmin(FeH-np.unique(arr[:, 2]))]\n",
    "        a_interp=ct2d(np.column_stack((arr[feh_ix,0],arr[feh_ix,1])),arr[feh_ix,4])\n",
    "        b_interp=ct2d(np.column_stack((arr[feh_ix,0],arr[feh_ix,1])),arr[feh_ix,5])\n",
    "        outarr=np.column_stack((a_interp(np.clip(Teff_samples,3500,50000),np.clip(logg_samples,0,5)),\n",
    "                                b_interp(np.clip(Teff_samples,3500,50000),np.clip(logg_samples,0,5))))\n",
    "        return outarr\n",
    "    elif mission.lower()=='corot':\n",
    "        from astroquery.vizier import Vizier\n",
    "        Vizier.ROW_LIMIT = -1\n",
    "        arr = Vizier.get_catalogs('J/A+A/618/A20/COROTq')[0].to_pandas()\n",
    "        a_interp=ct2d(np.column_stack((arr['Teff'],arr['logg'])),arr['a'])\n",
    "        b_interp=ct2d(np.column_stack((arr['Teff'],arr['logg'])),arr['b'])\n",
    "        outarr=np.column_stack((a_interp(np.clip(Teff_samples,3500,50000),np.clip(logg_samples,0,5)),\n",
    "                                b_interp(np.clip(Teff_samples,3500,50000),np.clip(logg_samples,0,5))))\n",
    "        return outarr"
   ]
  },
  {
   "cell_type": "code",
   "execution_count": 117,
   "metadata": {},
   "outputs": [
    {
     "data": {
      "text/plain": [
       "0.9777901865662434"
      ]
     },
     "execution_count": 117,
     "metadata": {},
     "output_type": "execute_result"
    }
   ],
   "source": [
    "sma_circ/0.01375564"
   ]
  },
  {
   "cell_type": "code",
   "execution_count": 139,
   "metadata": {},
   "outputs": [
    {
     "data": {
      "text/plain": [
       "-0.02220981343375661"
      ]
     },
     "execution_count": 139,
     "metadata": {},
     "output_type": "execute_result"
    }
   ],
   "source": [
    "sma_circ/0.01375564 - 1"
   ]
  },
  {
   "cell_type": "code",
   "execution_count": null,
   "metadata": {},
   "outputs": [],
   "source": []
  },
  {
   "cell_type": "code",
   "execution_count": 155,
   "metadata": {},
   "outputs": [
    {
     "data": {
      "text/plain": [
       "0.00012134929303817956"
      ]
     },
     "execution_count": 155,
     "metadata": {},
     "output_type": "execute_result"
    }
   ],
   "source": [
    "np.sqrt(1-sma_circ/0.01345013)"
   ]
  },
  {
   "cell_type": "code",
   "execution_count": null,
   "metadata": {},
   "outputs": [],
   "source": []
  },
  {
   "cell_type": "code",
   "execution_count": null,
   "metadata": {},
   "outputs": [],
   "source": []
  },
  {
   "cell_type": "code",
   "execution_count": null,
   "metadata": {},
   "outputs": [],
   "source": []
  },
  {
   "cell_type": "code",
   "execution_count": null,
   "metadata": {},
   "outputs": [],
   "source": []
  },
  {
   "cell_type": "code",
   "execution_count": 154,
   "metadata": {},
   "outputs": [
    {
     "data": {
      "text/plain": [
       "True"
      ]
     },
     "execution_count": 154,
     "metadata": {},
     "output_type": "execute_result"
    }
   ],
   "source": [
    "0.01345013>sma_circ"
   ]
  },
  {
   "cell_type": "code",
   "execution_count": null,
   "metadata": {},
   "outputs": [],
   "source": []
  },
  {
   "cell_type": "code",
   "execution_count": null,
   "metadata": {},
   "outputs": [],
   "source": []
  },
  {
   "cell_type": "code",
   "execution_count": null,
   "metadata": {},
   "outputs": [],
   "source": []
  },
  {
   "cell_type": "code",
   "execution_count": null,
   "metadata": {},
   "outputs": [],
   "source": []
  },
  {
   "cell_type": "code",
   "execution_count": null,
   "metadata": {},
   "outputs": [],
   "source": []
  },
  {
   "cell_type": "code",
   "execution_count": 166,
   "metadata": {},
   "outputs": [
    {
     "name": "stderr",
     "output_type": "stream",
     "text": [
      "INFO (theano.gof.compilelock): Refreshing lock /Users/hosborn/.theano/compiledir_Darwin-19.6.0-x86_64-i386-64bit-i386-3.7.6-64/lock_dir/lock\n",
      "/Users/hosborn/transits/lib/python3.7/site-packages/theano/tensor/subtensor.py:2197: FutureWarning: Using a non-tuple sequence for multidimensional indexing is deprecated; use `arr[tuple(seq)]` instead of `arr[seq]`. In the future this will be interpreted as an array index, `arr[np.array(seq)]`, which will result either in an error or a different result.\n",
      "  rval = inputs[0].__getitem__(inputs[1:])\n"
     ]
    }
   ],
   "source": [
    "ld_dists=getLDs(Teff,logg,n_samples=1200,mission='tess')\n",
    "ld_mult=1.0\n",
    "\n",
    "with pm.Model() as model:\n",
    "    #b can just be unit uniform:\n",
    "    b=pm.Uniform('b',lower=0.0,upper=0.95)\n",
    "    #This is no longer used, the offset was just 0.5P\n",
    "    t_offset=pm.Bound(pm.Normal, upper=0.4*P,lower=-0.4*P)(\"t_offset\", mu=0.0, sigma=0.05*P)\n",
    "    \n",
    "    #For now, let's just model lightcurve depth for every transit:\n",
    "    #log_depths=pm.Bound(pm.Normal, upper=-1,lower=-2.5)(\"log_depths\", mu=-1.5, sigma=6.0,shape=len(trns_numbers))\n",
    "    log_depths=pm.Bound(pm.Normal, upper=-1,lower=-8)(\"log_depths\", mu=-5, sigma=10.0,shape=len(trns_numbers))\n",
    "    \n",
    "    '''\n",
    "    #This is where we could put a GP:\n",
    "    \n",
    "    from exoplanet import estimate_inverse_gamma_parameters\n",
    "    from exoplanet.gp import terms, GP\n",
    "\n",
    "    #Getting depths with GP\n",
    "    if use_gp:\n",
    "        #Getting dust production from a GP\n",
    "        #dust_mean=pm.Uniform('dust_mean',lower=0,upper=0.5)\n",
    "        log_mean_depths = pm.Normal(\"log_mean_depths\", mu=-3, sigma=6.0)\n",
    "        S1 = pm.InverseGamma(\n",
    "            \"S1\", **estimate_inverse_gamma_parameters(0.5 ** 2, 10.0 ** 2)\n",
    "        )\n",
    "        w1 = pm.InverseGamma(\n",
    "            \"w1\", **estimate_inverse_gamma_parameters(2 * np.pi / 20.0, 0.125*np.pi)\n",
    "        )\n",
    "        # Set up the kernel an GP\n",
    "        kernel = terms.SHOTerm(S_tot=S1, w0=w1, Q=1.0 / np.sqrt(2))\n",
    "        sigma = pm.Lognormal(\"sigma\", mu=np.log(0.0), sigma=10)\n",
    "        log_depth_gp = GP(kernel, trns_numbers, sigma ** 2 + tt.zeros(len(trns_numbers)), mean=log_mean_dust)\n",
    "        \n",
    "        #Using our GP to predict log depth and applying this:\n",
    "        log_depth_gp.compute(trns_numbers,sigma)\n",
    "        dust_prod_pred = tt.exp(log_depth_gp.predict(trns_numbers,return_var=False))\n",
    "    '''    \n",
    "\n",
    "    #This is the relative speed of the dust with respect to the planet. i.e. <0 = in-falling. >0 = propelled outward.\n",
    "    #NB - dust_vel<0.41 (as sqrt(2)*v_circ = unbound from the solar system!).    \n",
    "    dust_vel=pm.Bound(pm.Normal, upper=0.3,lower=-0.3)('dust_vel',mu=0.0,sd=0.2)\n",
    "    \n",
    "    #We want to define our dusty \"phantom planets\" as kicked off their planet and moving along eccentric orbits\n",
    "    #Here we will assume the dust is kicked off _radially_ with no change in angular velocity\n",
    "    #This means all the orbits will have the same eccentricity, and the same \"period\", so initialising here:\n",
    "    # Initial positions of the orbits of our phantom planets (where pi/2 = planet phase)\n",
    "    #sma_circ    = pm.Constant(\"sma_circ\", (((c.G.value*(u.Msun.to(u.kg))*Ms*(P*86400)**2)/(4*np.pi**2))**(1/3))/(u.AU.to(u.m)))\n",
    "    sma_circ    = (((c.G.value*(u.Msun.to(u.kg))*Ms*(P*86400)**2)/(4*np.pi**2))**(1/3))/(u.AU.to(u.m))\n",
    "    #v_circ      = pm.Constant(\"v_circ\", (2*np.pi*sma_circ*(u.AU.to(u.m)))/(P*86400))\n",
    "    v_circ      = (2*np.pi*sma_circ*(u.AU.to(u.m)))/(P*86400)\n",
    "    sma_phantom = pm.Deterministic(\"sma_phantom\",((2/(sma_circ*(u.AU.to(u.m))) - (v_circ**2 + (dust_vel*v_circ)**2)/(c.G.value*Ms*(u.Msun.to(u.kg))))**-1)*(u.m.to(u.AU)))\n",
    "    #sma_phantom = 1/(u.AU.to(u.m)*(2/(sma_circ*u.AU.to(u.m)) - ((1+dust_vel)*v_circ)**2/(c.G.value*Ms*(u.Msun.to(u.kg)))))\n",
    "    per_phantom = pm.Deterministic(\"per_phantom\",P*(sma_phantom/sma_circ)**(3/2))\n",
    "    \n",
    "    #Defining t_periasteron as the time when the phatom planet left the real planet in the preceeding part of the orbit\n",
    "    # We have to redefine t_periasteron like this because we specifically want to model the fact that dust knocked off the surface *does not arrive at the time of transit*\n",
    "    #In the case of an in-falling dust body, we need to flip this by pi as periasteron becomes apasteron \n",
    "    ecc_phantom = pm.Deterministic(\"ecc_phantom\", tt.sqrt(abs(sma_circ/sma_phantom-1)))\n",
    "    '''\n",
    "    if tt.lt(sma_phantom,sma_circ):\n",
    "        ecc_phantom = pm.Deterministic(\"ecc_phantom\", tt.sqrt(1-sma_circ/sma_phantom))\n",
    "    elif tt.gt(sma_phantom,sma_circ):\n",
    "        ecc_phantom = pm.Deterministic(\"ecc_phantom\", tt.sqrt(sma_circ/sma_phantom-1))\n",
    "    else:\n",
    "        ecc_phantom = pm.Deterministic(\"ecc_phantom\",0.0)\n",
    "    '''\n",
    "    \n",
    "    #NB - similarly, the dust velocity should be on a trajectory that doesnt intersect with the star (because this ruins the transit models)\n",
    "    # Uses a sigmoid function L/(1+exp(K*(sma-sma_min))), where L=-100 (invalid sma) and K=1000 (steepness)\n",
    "    pm.Potential(\"sma_min\",-100.0/(1+np.exp(1000*(sma_phantom-Rs*(u.Rsun.to(u.au))/(1-ecc_phantom)))))\n",
    "\n",
    "    if tt.lt(dust_vel,0):\n",
    "        phantom_omega   = np.linspace(1.5*np.pi,1.5*np.pi - phase_coverage*2*np.pi,  n_steps)\n",
    "        phantom_t_peris = 0.5*per_phantom - np.linspace(0.0, phase_coverage*P, n_steps)\n",
    "    elif tt.ge(dust_vel,0):\n",
    "        phantom_omega   = np.linspace(0.5*np.pi, 0.5*np.pi - phase_coverage*2*np.pi, n_steps)\n",
    "        phantom_t_peris = np.linspace(0.0, phase_coverage*P, n_steps)\n",
    "\n",
    "    '''\n",
    "    if tt.lt(dust_vel,0):\n",
    "        ecc_phantom = pm.Deterministic(\"ecc_phantom\", tt.sqrt(sma_circ/sma_phantom-1))\n",
    "        phantom_omega   = pm.Deterministic(\"phantom_omega\", np.linspace(1.5*np.pi - phase_coverage*2*np.pi, 1.5*np.pi, n_steps) )\n",
    "        phantom_t_peris = pm.Deterministic(\"phantom_t_peris\", 0.5*per_phantom - np.linspace(phase_coverage*P, 0.0, n_steps))\n",
    "    elif tt.gt(dust_vel,0):\n",
    "        ecc_phantom = pm.Deterministic(\"ecc_phantom\", tt.sqrt(1-sma_circ/sma_phantom))\n",
    "        phantom_omega = pm.Deterministic(\"phantom_omega\", np.linspace(0.5*np.pi - phase_coverage*2*np.pi, 0.5*np.pi, n_steps) )\n",
    "        phantom_t_peris = pm.Deterministic(\"phantom_t_peris\", np.linspace(-1*phase_coverage*P, 0.0, n_steps))\n",
    "    else:\n",
    "        ecc_phantom = pm.Deterministic(\"ecc_phantom\",0.0)\n",
    "        phantom_omega = pm.Deterministic(\"phantom_omega\", np.linspace(0.5*np.pi - phase_coverage*2*np.pi, 0.5*np.pi, n_steps) )\n",
    "        phantom_t_peris = pm.Deterministic(\"phantom_t_peris\", np.linspace(-1*phase_coverage*P, 0.0, n_steps))\n",
    "    '''\n",
    "    #As dust dispersion is constant and our steps are constant, we should also always have the same dispersion for each transit, so initialising here:\n",
    "    init_planet_ratio = ((sma_circ*u.AU.to(u.m))*(init_planet_mass*(u.Mearth.to(u.kg))/(3*Ms*(u.Msun.to(u.kg))))**(1/3))/(Rs*(u.Rsun.to(u.m))) #roche lobe for Mars-sized body on this orbit\n",
    "    log_rad_growth    = pm.Uniform(\"log_rad_growth\",lower=-10,upper=10,testval=-1)\n",
    "    # We parameterize the rate of growth of the dusty \"planets\" with log_rad_growth\n",
    "    planet_ratios_init= init_planet_ratio+(1+np.exp(log_rad_growth))**np.linspace(1,2,n_steps)\n",
    "    planet_ratios     = pm.Deterministic(\"planet_ratios\",(planet_ratios_init-planet_ratios_init[0])/(3.5*planet_ratios_init[-1])+init_planet_ratio) #Limiting it at 0.5\n",
    "    #Limiting it at 0.5\n",
    "    \n",
    "    # Dispersion is the parameter dealing with the net throughput of each dust \"planet\"\n",
    "    # We will start at 0.25 for the Hill Sphere and decrease\n",
    "    # How steep that decrease is can be varied with \"log_dust_dispersion\"\n",
    "    log_dust_dispersion=pm.Uniform(\"log_dust_dispersion\",lower=2,upper=10)\n",
    "    dispersion        = pm.Deterministic(\"dispersion\", 0.25/(1.0+np.exp(log_dust_dispersion))**(np.linspace(0,1,n_steps)))\n",
    "    \n",
    "    #Defining limb darkening\n",
    "\n",
    "    u_star_tess = pm.Bound(pm.Normal, lower=0.0, upper=1.0)(\"u_star_tess\", \n",
    "                                    mu=np.clip(np.nanmedian(ld_dists,axis=0),0,1),\n",
    "                                    sd=np.clip(ld_mult*np.nanstd(ld_dists,axis=0),0.05,1.0),\n",
    "                                    shape=2, testval=np.clip(np.nanmedian(ld_dists,axis=0),0,1))\n",
    "\n",
    "    #u_star_tess = xo.distributions.QuadLimbDark(\"u_star_tess\", testval=np.array([0.3, 0.2]))\n",
    "    \n",
    "    #Defining the orbit using stellar params (Rs, Ms) and period, omega, t_peri, ecc and b:\n",
    "    orbit = xo.orbits.KeplerianOrbit(r_star=Rs,m_star=Ms,\n",
    "                                     period=tt.tile(per_phantom,n_steps),\n",
    "                                     omega=phantom_omega,\n",
    "                                     t_periastron=phantom_t_peris,\n",
    "                                     ecc=tt.tile(ecc_phantom,n_steps),\n",
    "                                     b=tt.tile(b,n_steps))\n",
    "    \n",
    "    #Getting the lightcurve for all orbits, for all times (where the times have been adjusted to be ~0)\n",
    "    lc = xo.LimbDarkLightCurve(u_star_tess).get_light_curve(orbit=orbit,r=planet_ratios,\n",
    "                                                            t=t_offset+tt.clip(P*(phase-np.round(phase)),-0.5*per_phantom,0.5*per_phantom))\n",
    "    #For short-period orbits, we really need to make sure that the second orbits are not included...\n",
    "    #lc[((P*(phase-np.round(phase))[:,np.newaxis]<orbit.t0.dimshuffle('x',0)-0.5*per_phantom)+(P*(phase-np.round(phase))[:,np.newaxis]>orbit.t0.dimshuffle('x',0)+0.5*per_phantom))]=0\n",
    "\n",
    "    #Incorporating dispersion and finding the minimum in order to normalise lightcurve to depth=1.0\n",
    "    disp_lc = tt.sum(lc*dispersion.dimshuffle('x',0),axis=1)\n",
    "    lc_min  = tt.clip(tt.min(disp_lc),-1e5,-1e-20)\n",
    "\n",
    "    #Incorporating depth differences by multipliying depths (N_Tr, 1) by a phase index (N_tr x N_lc) and summing along N_tr axis:\n",
    "    depth_adjusts = tt.sum(tt.exp(log_depths).dimshuffle(0,'x')*phase_index,axis=0)\n",
    "\n",
    "    #Multiplying normalised lc by the depth:\n",
    "    model_lc = pm.Deterministic(\"model_lc\",-1*(disp_lc/lc_min)*depth_adjusts)\n",
    "\n",
    "    #Likelihood of the model:\n",
    "    pm.Normal(\"likelihood\",mu=model_lc, sigma=flux_err, observed=flux)\n",
    "    \n",
    "    #return final_model"
   ]
  },
  {
   "cell_type": "code",
   "execution_count": 167,
   "metadata": {},
   "outputs": [
    {
     "name": "stderr",
     "output_type": "stream",
     "text": [
      "  0%|          | 0/5000 [00:00<?, ?it/s]/Users/hosborn/transits/lib/python3.7/site-packages/scipy/optimize/_minimize.py:500: RuntimeWarning: Method powell does not use gradient information (jac).\n",
      "  RuntimeWarning)\n",
      "/Users/hosborn/transits/lib/python3.7/site-packages/theano/tensor/subtensor.py:2197: FutureWarning: Using a non-tuple sequence for multidimensional indexing is deprecated; use `arr[tuple(seq)]` instead of `arr[seq]`. In the future this will be interpreted as an array index, `arr[np.array(seq)]`, which will result either in an error or a different result.\n",
      "  rval = inputs[0].__getitem__(inputs[1:])\n",
      "logp = 50,288, ||grad|| = 294.21: 100%|██████████| 1291/1291 [01:30<00:00, 14.32it/s] \n"
     ]
    }
   ],
   "source": [
    "with model:\n",
    "    map_estimate = pm.find_MAP(model=model, method=\"powell\")"
   ]
  },
  {
   "cell_type": "code",
   "execution_count": 168,
   "metadata": {},
   "outputs": [
    {
     "data": {
      "text/plain": [
       "[<matplotlib.lines.Line2D at 0x14410c490>]"
      ]
     },
     "execution_count": 168,
     "metadata": {},
     "output_type": "execute_result"
    },
    {
     "data": {
      "image/png": "[encoded data removed]",
      "text/plain": [
       "<Figure size 864x216 with 1 Axes>"
      ]
     },
     "metadata": {
      "needs_background": "light"
     },
     "output_type": "display_data"
    }
   ],
   "source": [
    "plt.figure(figsize=(12,3))\n",
    "plt.plot(t[:2800],flux[:2800],'.',alpha=0.5)\n",
    "plt.plot(t[:2800],map_estimate[\"model_lc\"][:2800])"
   ]
  },
  {
   "cell_type": "code",
   "execution_count": 169,
   "metadata": {},
   "outputs": [
    {
     "data": {
      "text/plain": [
       "{'b_interval__': array(1.81056199),\n",
       " 't_offset_interval__': array(-0.0058004),\n",
       " 'log_depths_interval__': array([ 0.02999827, -0.46982013, -0.16005066, -0.94477328, -0.24607418,\n",
       "        -0.928807  ,  0.01636781, -0.98685757, -0.14863451, -2.05129333,\n",
       "        -1.02858739, -1.71758513, -0.16172674, -1.02291174, -0.20780814,\n",
       "        -0.08220675]),\n",
       " 'dust_vel_interval__': array(0.03036088),\n",
       " 'log_rad_growth_interval__': array(53.85137972),\n",
       " 'log_dust_dispersion_interval__': array(-63.24709864),\n",
       " 'u_star_tess_interval__': array([28.98271714, -1.77635541]),\n",
       " 'b': array(0.81645829),\n",
       " 't_offset': array(-0.00075817),\n",
       " 'log_depths': array([-4.44750696, -5.30738828, -4.77949228, -6.04043979, -4.92846992,\n",
       "        -6.01783232, -4.47135697, -6.09926751, -4.75963258, -7.20254766,\n",
       "        -6.15649358, -6.93472267, -4.78240653, -6.14877568, -4.86236116,\n",
       "        -4.64378084]),\n",
       " 'dust_vel': array(0.00455378),\n",
       " 'sma_phantom': array(0.01345041),\n",
       " 'per_phantom': array(0.65357413),\n",
       " 'ecc_phantom': array(0.00455378),\n",
       " 'log_rad_growth': array(10.),\n",
       " 'planet_ratios': array([0.00927058, 0.00927502, 0.00928097, 0.00928896, 0.00929967,\n",
       "        0.00931406, 0.00933336, 0.00935926, 0.00939402, 0.00944066,\n",
       "        0.00950326, 0.00958725, 0.00969997, 0.00985124, 0.01005422,\n",
       "        0.01032662, 0.01069216, 0.01118269, 0.01184096, 0.01272433,\n",
       "        0.01390975, 0.01550052, 0.01763524, 0.02049991, 0.02434414,\n",
       "        0.02950289, 0.03642563, 0.04571556, 0.05818212, 0.07491154,\n",
       "        0.09736147, 0.12748802, 0.16791615, 0.22216842, 0.2949719 ]),\n",
       " 'log_dust_dispersion': array(2.),\n",
       " 'dispersion': array([0.25      , 0.23483995, 0.22059921, 0.20722202, 0.19465604,\n",
       "        0.18285206, 0.17176387, 0.16134807, 0.15156389, 0.14237303,\n",
       "        0.1337395 , 0.12562951, 0.11801131, 0.11085508, 0.1041328 ,\n",
       "        0.09781817, 0.09188645, 0.08631444, 0.08108031, 0.07616359,\n",
       "        0.07154501, 0.06720651, 0.06313109, 0.05930281, 0.05570667,\n",
       "        0.05232861, 0.04915539, 0.0461746 , 0.04337456, 0.04074432,\n",
       "        0.03827358, 0.03595266, 0.03377248, 0.03172451, 0.02980073]),\n",
       " 'u_star_tess': array([1.        , 0.14475375]),\n",
       " 'model_lc': array([0., 0., 0., ..., 0., 0., 0.])}"
      ]
     },
     "execution_count": 169,
     "metadata": {},
     "output_type": "execute_result"
    }
   ],
   "source": [
    "map_estimate"
   ]
  },
  {
   "cell_type": "code",
   "execution_count": 170,
   "metadata": {},
   "outputs": [
    {
     "name": "stderr",
     "output_type": "stream",
     "text": [
      "Auto-assigning NUTS sampler...\n",
      "Initializing NUTS using jitter+adapt_diag...\n",
      "INFO (theano.gof.compilelock): Refreshing lock /Users/hosborn/.theano/compiledir_Darwin-19.6.0-x86_64-i386-64bit-i386-3.7.6-64/lock_dir/lock\n",
      "/Users/hosborn/transits/lib/python3.7/site-packages/theano/tensor/subtensor.py:2197: FutureWarning: Using a non-tuple sequence for multidimensional indexing is deprecated; use `arr[tuple(seq)]` instead of `arr[seq]`. In the future this will be interpreted as an array index, `arr[np.array(seq)]`, which will result either in an error or a different result.\n",
      "  rval = inputs[0].__getitem__(inputs[1:])\n",
      "Multiprocess sampling (4 chains in 4 jobs)\n",
      "NUTS: [u_star_tess, log_dust_dispersion, log_rad_growth, dust_vel, log_depths, t_offset, b]\n",
      "Sampling 4 chains, 1 divergences: 100%|██████████| 4000/4000 [1:11:55<00:00,  1.08s/draws]\n",
      "INFO (theano.gof.compilelock): Refreshing lock /Users/hosborn/.theano/compiledir_Darwin-19.6.0-x86_64-i386-64bit-i386-3.7.6-64/lock_dir/lock\n",
      "/Users/hosborn/transits/lib/python3.7/site-packages/theano/tensor/subtensor.py:2197: FutureWarning: Using a non-tuple sequence for multidimensional indexing is deprecated; use `arr[tuple(seq)]` instead of `arr[seq]`. In the future this will be interpreted as an array index, `arr[np.array(seq)]`, which will result either in an error or a different result.\n",
      "  rval = inputs[0].__getitem__(inputs[1:])\n",
      "There was 1 divergence after tuning. Increase `target_accept` or reparameterize.\n",
      "The acceptance probability does not match the target. It is 0.6661683635162907, but should be close to 0.8. Try to increase the number of tuning steps.\n",
      "The acceptance probability does not match the target. It is 0.6316178077564346, but should be close to 0.8. Try to increase the number of tuning steps.\n",
      "The acceptance probability does not match the target. It is 0.7067631074133194, but should be close to 0.8. Try to increase the number of tuning steps.\n",
      "The rhat statistic is larger than 1.4 for some parameters. The sampler did not converge.\n",
      "The estimated number of effective samples is smaller than 200 for some parameters.\n"
     ]
    }
   ],
   "source": [
    "with model:\n",
    "    #step = pm.Metropolis()\n",
    "    #trace = pm.sample(500, step)\n",
    "    trace = pm.sample(500)"
   ]
  },
  {
   "cell_type": "code",
   "execution_count": 171,
   "metadata": {},
   "outputs": [
    {
     "data": {
      "text/html": [
       "<div>\n",
       "<style scoped>\n",
       "    .dataframe tbody tr th:only-of-type {\n",
       "        vertical-align: middle;\n",
       "    }\n",
       "\n",
       "    .dataframe tbody tr th {\n",
       "        vertical-align: top;\n",
       "    }\n",
       "\n",
       "    .dataframe thead th {\n",
       "        text-align: right;\n",
       "    }\n",
       "</style>\n",
       "<table border=\"1\" class=\"dataframe\">\n",
       "  <thead>\n",
       "    <tr style=\"text-align: right;\">\n",
       "      <th></th>\n",
       "      <th>mean</th>\n",
       "      <th>sd</th>\n",
       "      <th>hpd_3%</th>\n",
       "      <th>hpd_97%</th>\n",
       "      <th>mcse_mean</th>\n",
       "      <th>mcse_sd</th>\n",
       "      <th>ess_mean</th>\n",
       "      <th>ess_sd</th>\n",
       "      <th>ess_bulk</th>\n",
       "      <th>ess_tail</th>\n",
       "      <th>r_hat</th>\n",
       "    </tr>\n",
       "  </thead>\n",
       "  <tbody>\n",
       "    <tr>\n",
       "      <th>b</th>\n",
       "      <td>0.902</td>\n",
       "      <td>0.012</td>\n",
       "      <td>0.880</td>\n",
       "      <td>0.924</td>\n",
       "      <td>0.001</td>\n",
       "      <td>0.001</td>\n",
       "      <td>104.0</td>\n",
       "      <td>104.0</td>\n",
       "      <td>107.0</td>\n",
       "      <td>182.0</td>\n",
       "      <td>1.04</td>\n",
       "    </tr>\n",
       "    <tr>\n",
       "      <th>t_offset</th>\n",
       "      <td>0.007</td>\n",
       "      <td>0.002</td>\n",
       "      <td>0.005</td>\n",
       "      <td>0.010</td>\n",
       "      <td>0.000</td>\n",
       "      <td>0.000</td>\n",
       "      <td>32.0</td>\n",
       "      <td>32.0</td>\n",
       "      <td>43.0</td>\n",
       "      <td>55.0</td>\n",
       "      <td>1.07</td>\n",
       "    </tr>\n",
       "    <tr>\n",
       "      <th>dust_vel</th>\n",
       "      <td>-0.054</td>\n",
       "      <td>0.100</td>\n",
       "      <td>-0.169</td>\n",
       "      <td>0.139</td>\n",
       "      <td>0.048</td>\n",
       "      <td>0.036</td>\n",
       "      <td>4.0</td>\n",
       "      <td>4.0</td>\n",
       "      <td>7.0</td>\n",
       "      <td>37.0</td>\n",
       "      <td>1.63</td>\n",
       "    </tr>\n",
       "    <tr>\n",
       "      <th>sma_phantom</th>\n",
       "      <td>0.014</td>\n",
       "      <td>0.000</td>\n",
       "      <td>0.013</td>\n",
       "      <td>0.014</td>\n",
       "      <td>0.000</td>\n",
       "      <td>0.000</td>\n",
       "      <td>57.0</td>\n",
       "      <td>57.0</td>\n",
       "      <td>48.0</td>\n",
       "      <td>210.0</td>\n",
       "      <td>1.08</td>\n",
       "    </tr>\n",
       "    <tr>\n",
       "      <th>per_phantom</th>\n",
       "      <td>0.667</td>\n",
       "      <td>0.007</td>\n",
       "      <td>0.655</td>\n",
       "      <td>0.679</td>\n",
       "      <td>0.001</td>\n",
       "      <td>0.001</td>\n",
       "      <td>58.0</td>\n",
       "      <td>58.0</td>\n",
       "      <td>48.0</td>\n",
       "      <td>210.0</td>\n",
       "      <td>1.08</td>\n",
       "    </tr>\n",
       "    <tr>\n",
       "      <th>ecc_phantom</th>\n",
       "      <td>0.110</td>\n",
       "      <td>0.031</td>\n",
       "      <td>0.043</td>\n",
       "      <td>0.162</td>\n",
       "      <td>0.005</td>\n",
       "      <td>0.003</td>\n",
       "      <td>43.0</td>\n",
       "      <td>43.0</td>\n",
       "      <td>48.0</td>\n",
       "      <td>210.0</td>\n",
       "      <td>1.08</td>\n",
       "    </tr>\n",
       "    <tr>\n",
       "      <th>log_rad_growth</th>\n",
       "      <td>-2.514</td>\n",
       "      <td>5.120</td>\n",
       "      <td>-9.994</td>\n",
       "      <td>6.736</td>\n",
       "      <td>1.310</td>\n",
       "      <td>0.945</td>\n",
       "      <td>15.0</td>\n",
       "      <td>15.0</td>\n",
       "      <td>18.0</td>\n",
       "      <td>231.0</td>\n",
       "      <td>1.19</td>\n",
       "    </tr>\n",
       "    <tr>\n",
       "      <th>log_dust_dispersion</th>\n",
       "      <td>5.477</td>\n",
       "      <td>2.133</td>\n",
       "      <td>2.283</td>\n",
       "      <td>9.517</td>\n",
       "      <td>0.351</td>\n",
       "      <td>0.252</td>\n",
       "      <td>37.0</td>\n",
       "      <td>36.0</td>\n",
       "      <td>39.0</td>\n",
       "      <td>103.0</td>\n",
       "      <td>1.08</td>\n",
       "    </tr>\n",
       "    <tr>\n",
       "      <th>u_star_tess[0]</th>\n",
       "      <td>0.478</td>\n",
       "      <td>0.049</td>\n",
       "      <td>0.394</td>\n",
       "      <td>0.574</td>\n",
       "      <td>0.002</td>\n",
       "      <td>0.001</td>\n",
       "      <td>587.0</td>\n",
       "      <td>587.0</td>\n",
       "      <td>569.0</td>\n",
       "      <td>733.0</td>\n",
       "      <td>1.01</td>\n",
       "    </tr>\n",
       "    <tr>\n",
       "      <th>u_star_tess[1]</th>\n",
       "      <td>0.172</td>\n",
       "      <td>0.049</td>\n",
       "      <td>0.085</td>\n",
       "      <td>0.263</td>\n",
       "      <td>0.002</td>\n",
       "      <td>0.001</td>\n",
       "      <td>798.0</td>\n",
       "      <td>798.0</td>\n",
       "      <td>817.0</td>\n",
       "      <td>875.0</td>\n",
       "      <td>1.01</td>\n",
       "    </tr>\n",
       "  </tbody>\n",
       "</table>\n",
       "</div>"
      ],
      "text/plain": [
       "                      mean     sd  hpd_3%  hpd_97%  mcse_mean  mcse_sd  \\\n",
       "b                    0.902  0.012   0.880    0.924      0.001    0.001   \n",
       "t_offset             0.007  0.002   0.005    0.010      0.000    0.000   \n",
       "dust_vel            -0.054  0.100  -0.169    0.139      0.048    0.036   \n",
       "sma_phantom          0.014  0.000   0.013    0.014      0.000    0.000   \n",
       "per_phantom          0.667  0.007   0.655    0.679      0.001    0.001   \n",
       "ecc_phantom          0.110  0.031   0.043    0.162      0.005    0.003   \n",
       "log_rad_growth      -2.514  5.120  -9.994    6.736      1.310    0.945   \n",
       "log_dust_dispersion  5.477  2.133   2.283    9.517      0.351    0.252   \n",
       "u_star_tess[0]       0.478  0.049   0.394    0.574      0.002    0.001   \n",
       "u_star_tess[1]       0.172  0.049   0.085    0.263      0.002    0.001   \n",
       "\n",
       "                     ess_mean  ess_sd  ess_bulk  ess_tail  r_hat  \n",
       "b                       104.0   104.0     107.0     182.0   1.04  \n",
       "t_offset                 32.0    32.0      43.0      55.0   1.07  \n",
       "dust_vel                  4.0     4.0       7.0      37.0   1.63  \n",
       "sma_phantom              57.0    57.0      48.0     210.0   1.08  \n",
       "per_phantom              58.0    58.0      48.0     210.0   1.08  \n",
       "ecc_phantom              43.0    43.0      48.0     210.0   1.08  \n",
       "log_rad_growth           15.0    15.0      18.0     231.0   1.19  \n",
       "log_dust_dispersion      37.0    36.0      39.0     103.0   1.08  \n",
       "u_star_tess[0]          587.0   587.0     569.0     733.0   1.01  \n",
       "u_star_tess[1]          798.0   798.0     817.0     875.0   1.01  "
      ]
     },
     "execution_count": 171,
     "metadata": {},
     "output_type": "execute_result"
    }
   ],
   "source": [
    "pm.summary(trace,var_names=['b', 't_offset', 'dust_vel', 'sma_phantom', 'per_phantom',\n",
    "                            'ecc_phantom', 'log_rad_growth', 'log_dust_dispersion', 'u_star_tess'])"
   ]
  },
  {
   "cell_type": "code",
   "execution_count": null,
   "metadata": {},
   "outputs": [
    {
     "name": "stderr",
     "output_type": "stream",
     "text": [
      "/Users/hosborn/transits/lib/python3.7/site-packages/theano/tensor/subtensor.py:2197: FutureWarning: Using a non-tuple sequence for multidimensional indexing is deprecated; use `arr[tuple(seq)]` instead of `arr[seq]`. In the future this will be interpreted as an array index, `arr[np.array(seq)]`, which will result either in an error or a different result.\n",
      "  rval = inputs[0].__getitem__(inputs[1:])\n"
     ]
    }
   ],
   "source": [
    "pm.summary(trace,var_names=['log_depths'])"
   ]
  },
  {
   "cell_type": "code",
   "execution_count": null,
   "metadata": {},
   "outputs": [],
   "source": []
  },
  {
   "cell_type": "code",
   "execution_count": 175,
   "metadata": {},
   "outputs": [
    {
     "data": {
      "text/plain": [
       "[<matplotlib.lines.Line2D at 0x161f48f50>,\n",
       " <matplotlib.lines.Line2D at 0x168653b50>,\n",
       " <matplotlib.lines.Line2D at 0x168653d10>,\n",
       " <matplotlib.lines.Line2D at 0x168653ed0>,\n",
       " <matplotlib.lines.Line2D at 0x1686690d0>,\n",
       " <matplotlib.lines.Line2D at 0x168669290>,\n",
       " <matplotlib.lines.Line2D at 0x1686694d0>,\n",
       " <matplotlib.lines.Line2D at 0x168669690>,\n",
       " <matplotlib.lines.Line2D at 0x168669850>,\n",
       " <matplotlib.lines.Line2D at 0x1686692d0>,\n",
       " <matplotlib.lines.Line2D at 0x161f19c90>,\n",
       " <matplotlib.lines.Line2D at 0x168669cd0>]"
      ]
     },
     "execution_count": 175,
     "metadata": {},
     "output_type": "execute_result"
    },
    {
     "data": {
      "image/png": "[encoded data removed]",
      "text/plain": [
       "<Figure size 432x288 with 1 Axes>"
      ]
     },
     "metadata": {
      "needs_background": "light"
     },
     "output_type": "display_data"
    }
   ],
   "source": [
    "plt.plot(trace['model_lc'][:1600,np.random.choice(len(trace['log_rad_growth']),12)])"
   ]
  },
  {
   "cell_type": "code",
   "execution_count": null,
   "metadata": {},
   "outputs": [],
   "source": []
  },
  {
   "cell_type": "code",
   "execution_count": null,
   "metadata": {},
   "outputs": [],
   "source": []
  },
  {
   "cell_type": "code",
   "execution_count": 111,
   "metadata": {},
   "outputs": [
    {
     "name": "stderr",
     "output_type": "stream",
     "text": [
      "/Users/hosborn/transits/lib/python3.7/site-packages/ipykernel_launcher.py:1: RuntimeWarning: All-NaN slice encountered\n",
      "  \"\"\"Entry point for launching an IPython kernel.\n"
     ]
    },
    {
     "data": {
      "text/plain": [
       "nan"
      ]
     },
     "execution_count": 111,
     "metadata": {},
     "output_type": "execute_result"
    }
   ],
   "source": [
    "np.nanmin(trace['ecc_phantom'])"
   ]
  },
  {
   "cell_type": "code",
   "execution_count": null,
   "metadata": {},
   "outputs": [],
   "source": []
  },
  {
   "cell_type": "code",
   "execution_count": null,
   "metadata": {},
   "outputs": [],
   "source": []
  },
  {
   "cell_type": "code",
   "execution_count": 164,
   "metadata": {},
   "outputs": [
    {
     "data": {
      "text/plain": [
       "0.7072128498560388"
      ]
     },
     "execution_count": 164,
     "metadata": {},
     "output_type": "execute_result"
    }
   ],
   "source": [
    "np.sqrt(abs(1.0/0.6666-1))"
   ]
  },
  {
   "cell_type": "code",
   "execution_count": 165,
   "metadata": {},
   "outputs": [
    {
     "data": {
      "text/plain": [
       "0.5773502691896258"
      ]
     },
     "execution_count": 165,
     "metadata": {},
     "output_type": "execute_result"
    }
   ],
   "source": []
  },
  {
   "cell_type": "code",
   "execution_count": null,
   "metadata": {},
   "outputs": [],
   "source": []
  },
  {
   "cell_type": "code",
   "execution_count": null,
   "metadata": {},
   "outputs": [],
   "source": []
  },
  {
   "cell_type": "code",
   "execution_count": null,
   "metadata": {},
   "outputs": [],
   "source": []
  },
  {
   "cell_type": "code",
   "execution_count": 161,
   "metadata": {},
   "outputs": [
    {
     "data": {
      "text/plain": [
       "0.5773502691896258"
      ]
     },
     "execution_count": 161,
     "metadata": {},
     "output_type": "execute_result"
    }
   ],
   "source": [
    "np.sqrt(1-1.0/1.5)"
   ]
  },
  {
   "cell_type": "code",
   "execution_count": null,
   "metadata": {},
   "outputs": [],
   "source": []
  },
  {
   "cell_type": "code",
   "execution_count": null,
   "metadata": {},
   "outputs": [],
   "source": []
  },
  {
   "cell_type": "code",
   "execution_count": null,
   "metadata": {},
   "outputs": [],
   "source": []
  },
  {
   "cell_type": "code",
   "execution_count": 95,
   "metadata": {},
   "outputs": [
    {
     "data": {
      "text/plain": [
       "['b_interval__',\n",
       " 't_offset_interval__',\n",
       " 'log_depths_interval__',\n",
       " 'dust_vel_interval__',\n",
       " 'log_rad_growth_interval__',\n",
       " 'log_dust_dispersion_interval__',\n",
       " 'u_star_tess_interval__',\n",
       " 'b',\n",
       " 't_offset',\n",
       " 'log_depths',\n",
       " 'dust_vel',\n",
       " 'sma_phantom',\n",
       " 'per_phantom',\n",
       " 'ecc_phantom',\n",
       " 'log_rad_growth',\n",
       " 'planet_ratios',\n",
       " 'log_dust_dispersion',\n",
       " 'dispersion',\n",
       " 'u_star_tess',\n",
       " 'model_lc']"
      ]
     },
     "execution_count": 95,
     "metadata": {},
     "output_type": "execute_result"
    }
   ],
   "source": [
    "trace.varnames"
   ]
  },
  {
   "cell_type": "code",
   "execution_count": null,
   "metadata": {},
   "outputs": [],
   "source": []
  },
  {
   "cell_type": "code",
   "execution_count": null,
   "metadata": {},
   "outputs": [],
   "source": []
  },
  {
   "cell_type": "code",
   "execution_count": 57,
   "metadata": {},
   "outputs": [
    {
     "data": {
      "text/plain": [
       "[<matplotlib.lines.Line2D at 0x138aa3410>]"
      ]
     },
     "execution_count": 57,
     "metadata": {},
     "output_type": "execute_result"
    },
    {
     "data": {
      "image/png": "[encoded data removed]",
      "text/plain": [
       "<Figure size 432x288 with 1 Axes>"
      ]
     },
     "metadata": {
      "needs_background": "light"
     },
     "output_type": "display_data"
    }
   ],
   "source": [
    "log_rad_growth=10.0\n",
    "planet_ratios_init= init_planet_ratio+(1+np.exp(log_rad_growth))**np.linspace(1,2,n_steps)\n",
    "plt.plot((planet_ratios_init-planet_ratios_init[0])/(3*planet_ratios_init[-1])+init_planet_ratio)"
   ]
  },
  {
   "cell_type": "code",
   "execution_count": null,
   "metadata": {},
   "outputs": [],
   "source": []
  },
  {
   "cell_type": "code",
   "execution_count": null,
   "metadata": {},
   "outputs": [],
   "source": []
  },
  {
   "cell_type": "code",
   "execution_count": null,
   "metadata": {},
   "outputs": [],
   "source": []
  },
  {
   "cell_type": "code",
   "execution_count": null,
   "metadata": {},
   "outputs": [],
   "source": []
  },
  {
   "cell_type": "code",
   "execution_count": null,
   "metadata": {},
   "outputs": [],
   "source": []
  },
  {
   "cell_type": "code",
   "execution_count": null,
   "metadata": {},
   "outputs": [],
   "source": []
  },
  {
   "cell_type": "code",
   "execution_count": null,
   "metadata": {},
   "outputs": [],
   "source": []
  },
  {
   "cell_type": "code",
   "execution_count": null,
   "metadata": {},
   "outputs": [],
   "source": []
  },
  {
   "cell_type": "code",
   "execution_count": null,
   "metadata": {},
   "outputs": [],
   "source": []
  },
  {
   "cell_type": "code",
   "execution_count": null,
   "metadata": {},
   "outputs": [],
   "source": []
  },
  {
   "cell_type": "code",
   "execution_count": null,
   "metadata": {},
   "outputs": [],
   "source": []
  },
  {
   "cell_type": "code",
   "execution_count": null,
   "metadata": {},
   "outputs": [],
   "source": []
  },
  {
   "cell_type": "code",
   "execution_count": null,
   "metadata": {},
   "outputs": [],
   "source": []
  },
  {
   "cell_type": "code",
   "execution_count": 21,
   "metadata": {},
   "outputs": [
    {
     "data": {
      "text/plain": [
       "[<matplotlib.lines.Line2D at 0x13752b2d0>]"
      ]
     },
     "execution_count": 21,
     "metadata": {},
     "output_type": "execute_result"
    },
    {
     "data": {
      "image/png": "[encoded data removed]",
      "text/plain": [
       "<Figure size 432x288 with 1 Axes>"
      ]
     },
     "metadata": {
      "needs_background": "light"
     },
     "output_type": "display_data"
    }
   ],
   "source": [
    "for log_rad_growth in np.arange(-7,1.0,0.5):\n",
    "    planet_ratios_init= init_planet_ratio+(1+np.exp(log_rad_growth))**np.linspace(1,2,n_steps)\n",
    "    plt.plot((planet_ratios_init-planet_ratios_init[0])/(2*planet_ratios_init[-1])+init_planet_ratio) #Limiting it at 0.5\n",
    "plt.plot([0],[init_planet_ratio],'o')"
   ]
  },
  {
   "cell_type": "code",
   "execution_count": null,
   "metadata": {},
   "outputs": [],
   "source": [
    "for log_rad_growth in np.arange(-6,0.0,0.5):\n",
    "    init_planet_ratio = 0.01\n",
    "    planet_ratios_init= init_planet_ratio+(1+np.exp(log_rad_growth))**np.linspace(2,1,n_steps)\n",
    "    planet_ratios     = (planet_ratios_init-planet_ratios_init[-1])/(2*planet_ratios_init[0])+init_planet_ratio\n",
    "    plt.plot(planet_ratios)\n"
   ]
  },
  {
   "cell_type": "code",
   "execution_count": null,
   "metadata": {},
   "outputs": [],
   "source": []
  },
  {
   "cell_type": "code",
   "execution_count": 16,
   "metadata": {},
   "outputs": [
    {
     "data": {
      "text/plain": [
       "[<matplotlib.lines.Line2D at 0x137b84190>]"
      ]
     },
     "execution_count": 16,
     "metadata": {},
     "output_type": "execute_result"
    },
    {
     "data": {
      "image/png": "[encoded data removed]",
      "text/plain": [
       "<Figure size 432x288 with 1 Axes>"
      ]
     },
     "metadata": {
      "needs_background": "light"
     },
     "output_type": "display_data"
    }
   ],
   "source": [
    "plt.plot((1+np.exp(-2))**np.linspace(2,1,n_steps))"
   ]
  },
  {
   "cell_type": "code",
   "execution_count": null,
   "metadata": {},
   "outputs": [],
   "source": []
  }
 ],
 "metadata": {
  "kernelspec": {
   "display_name": "Python 3",
   "language": "python",
   "name": "python3"
  },
  "language_info": {
   "codemirror_mode": {
    "name": "ipython",
    "version": 3
   },
   "file_extension": ".py",
   "mimetype": "text/x-python",
   "name": "python",
   "nbconvert_exporter": "python",
   "pygments_lexer": "ipython3",
   "version": "3.7.6"
  }
 },
 "nbformat": 4,
 "nbformat_minor": 4
}
