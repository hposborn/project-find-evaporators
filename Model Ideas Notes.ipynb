{
 "cells": [
  {
   "cell_type": "markdown",
   "metadata": {},
   "source": [
    "# Initial Ideas for evaporator code\n",
    "\n",
    "Here's some simple ideas for how best to code an evaporating body"
   ]
  },
  {
   "cell_type": "markdown",
   "metadata": {},
   "source": [
    "#### Physical approach\n",
    "\n",
    "Let's think about the real physics going on, and see if we can adapt known models to account for that.\n",
    "\n",
    "The cause of the signal in evaporator transits is not the planet, but the dust cloud.\n",
    "\n",
    "To me, this dust cloud has three possibilities:\n",
    " * Spherical cloud around planet which decreases density with distance\n",
    " * Smeared tail behind planet which decreases density with distance\n",
    " * Smeared tail in front of planet which decreases density with distance\n",
    " \n",
    "In all three cases, we could iteractively fit a Mandel+Agol transit model to account for the change in size over time. e.g:\n",
    " \n",
    " <img src=\"MandelAgolIdeas.png\">\n",
    " \n",
    " This is not quite what happens, because there's thinks like Roche lobe overflow at L1/L2, but maybe it's enough for a general model?"
   ]
  },
  {
   "cell_type": "markdown",
   "metadata": {},
   "source": [
    "Alternatively, and possibly more realistically, these dust grains are pushed onto a new orbit, so potentially we should include a Keplerian signal for that which should include for curvature in the tail.\n",
    "\n",
    "In any case, we would then have a couple of hyper parameters for each transit governing:\n",
    "* the direction of motion of the dust cloud w.r.t. the planet (+ being leading, 0 being sphere, - being trailing)\n",
    "* the rate of dispersion over time\n",
    "* total dust production (which should governe depth)\n",
    "\n",
    "In this sort of model, the dust would be conserved - i.e. the density of the dust between transit model iterations would be proportional to the change in area (i.e. dispersion)"
   ]
  },
  {
   "cell_type": "markdown",
   "metadata": {},
   "source": [
    "##### Forward-scattering\n",
    "\n",
    " <img src=\"K222_model.jpg\">\n",
    "\n",
    "In the previous models (e.g. with Kepler), they have included a term to model the effect that this tail of dust is actually *scattering* (ie not just blocking) the light. That means less light in transit, but also extra light around transit due to the fact that the tail is directing light back to the observer.\n",
    "\n",
    "Personally I think this is too much to include in the model because: \n",
    "* 3D reflection geometry is non-trivial\n",
    "* It depends on both dust grain size & separation - two unknowns\n",
    "* The amount of scattering will certainly be less with TESS because of the redder wavelength\n",
    "\n",
    "But maybe we can include some sort of density-dependent boost effect around central transit with a couple of floating parameters:\n",
    "* dust density : boost height ratio (for the height of the Gaussian)\n",
    "* reflection angle (for the width of the Gaussian)"
   ]
  },
  {
   "cell_type": "markdown",
   "metadata": {},
   "source": [
    "So, the pseudo code:\n",
    "* planet period = $P$\n",
    "* planet transit time = $t_c$\n",
    "* dust production mean = $D_\\mu$\n",
    "* dust production std = $D_\\sigma$\n",
    "* dust speed = $v$\n",
    "* dust dispersion = $\\delta$\n",
    "* density to reflection boost = $b_D$\n",
    "* reflection angle = $\\Theta_b$\n",
    "\n",
    "For each transit:\n",
    "* draw dust production ($D_i$) from the $D_\\mu$ and $D_\\sigma$ distributions\n",
    "\n",
    "For each step:\n",
    "* Using $v$ we make a simple linear assumption as to the time since the dust left the planet's surface ($t_l$)\n",
    "* This point marks the position when an eccentric orbit was either at aphelion (for trailing tail) or perihelion (leading tail).\n",
    "* We then compute the new \"phantom planet\" orbit given $P$, $v$, $t_l$, $t_c$\n",
    "* Depending on the $\\delta$ and $t_l$ we calculate a new phantom planet radius, and a new \"density\" (e.g. alpha) for the transit.\n",
    "\n",
    "At the end:\n",
    "* Sum all the transit lightcurves for the phantom planets.\n",
    "* Use $b_D$ and $\\Theta_b$ to add a reflection boost"
   ]
  },
  {
   "cell_type": "code",
   "execution_count": null,
   "metadata": {},
   "outputs": [],
   "source": []
  },
  {
   "cell_type": "code",
   "execution_count": null,
   "metadata": {},
   "outputs": [],
   "source": []
  },
  {
   "cell_type": "code",
   "execution_count": null,
   "metadata": {},
   "outputs": [],
   "source": []
  },
  {
   "cell_type": "code",
   "execution_count": null,
   "metadata": {},
   "outputs": [],
   "source": []
  },
  {
   "cell_type": "code",
   "execution_count": null,
   "metadata": {},
   "outputs": [],
   "source": []
  },
  {
   "cell_type": "code",
   "execution_count": null,
   "metadata": {},
   "outputs": [],
   "source": []
  },
  {
   "cell_type": "code",
   "execution_count": null,
   "metadata": {},
   "outputs": [],
   "source": []
  },
  {
   "cell_type": "code",
   "execution_count": null,
   "metadata": {},
   "outputs": [],
   "source": []
  },
  {
   "cell_type": "code",
   "execution_count": null,
   "metadata": {},
   "outputs": [],
   "source": []
  },
  {
   "cell_type": "code",
   "execution_count": null,
   "metadata": {},
   "outputs": [],
   "source": []
  },
  {
   "cell_type": "code",
   "execution_count": null,
   "metadata": {},
   "outputs": [],
   "source": []
  },
  {
   "cell_type": "code",
   "execution_count": null,
   "metadata": {},
   "outputs": [],
   "source": []
  },
  {
   "cell_type": "code",
   "execution_count": null,
   "metadata": {},
   "outputs": [],
   "source": []
  },
  {
   "cell_type": "code",
   "execution_count": null,
   "metadata": {},
   "outputs": [],
   "source": []
  }
 ],
 "metadata": {
  "kernelspec": {
   "display_name": "Python 3",
   "language": "python",
   "name": "python3"
  },
  "language_info": {
   "codemirror_mode": {
    "name": "ipython",
    "version": 3
   },
   "file_extension": ".py",
   "mimetype": "text/x-python",
   "name": "python",
   "nbconvert_exporter": "python",
   "pygments_lexer": "ipython3",
   "version": "3.7.6"
  }
 },
 "nbformat": 4,
 "nbformat_minor": 4
}
